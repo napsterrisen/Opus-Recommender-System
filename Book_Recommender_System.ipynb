{
 "cells": [
  {
   "cell_type": "code",
   "execution_count": 528,
   "metadata": {},
   "outputs": [],
   "source": [
    "import pandas as pd\n",
    "import numpy as np\n",
    "from sklearn.feature_extraction.text import TfidfVectorizer\n",
    "from sklearn.metrics.pairwise import linear_kernel,sigmoid_kernel"
   ]
  },
  {
   "cell_type": "code",
   "execution_count": 529,
   "metadata": {},
   "outputs": [],
   "source": [
    "red=pd.read_csv('book_data.csv')"
   ]
  },
  {
   "cell_type": "code",
   "execution_count": 530,
   "metadata": {},
   "outputs": [
    {
     "output_type": "execute_result",
     "data": {
      "text/plain": [
       "                                            book_authors  \\\n",
       "0                                        Suzanne Collins   \n",
       "1                             J.K. Rowling|Mary GrandPré   \n",
       "2                                             Harper Lee   \n",
       "3      Jane Austen|Anna Quindlen|Mrs. Oliphant|George...   \n",
       "4                                        Stephenie Meyer   \n",
       "...                                                  ...   \n",
       "54296                                      Howard Megdal   \n",
       "54297                                      Howard Megdal   \n",
       "54298                                      Howard Megdal   \n",
       "54299                             Mimi Baird|Eve Claxton   \n",
       "54300                                         Leah Price   \n",
       "\n",
       "                                               book_desc  \\\n",
       "0      Winning will make you famous. Losing means cer...   \n",
       "1      There is a door at the end of a silent corrido...   \n",
       "2      The unforgettable novel of a childhood in a sl...   \n",
       "3      «È cosa ormai risaputa che a uno scapolo in po...   \n",
       "4      About three things I was absolutely positive.F...   \n",
       "...                                                  ...   \n",
       "54296  In this fearless and half-crazy story, Howard ...   \n",
       "54297  From the icons of the game to the players who ...   \n",
       "54298                                                NaN   \n",
       "54299  Soon to be a major motion picture, from Brad P...   \n",
       "54300  The Anthology and the Rise of the Novel brings...   \n",
       "\n",
       "                             book_edition     book_format    book_isbn  \\\n",
       "0                                     NaN       Hardcover  9.78044E+12   \n",
       "1                              US Edition       Paperback  9.78044E+12   \n",
       "2                        50th Anniversary       Paperback  9.78006E+12   \n",
       "3      Modern Library Classics, USA / CAN       Paperback  9.78068E+12   \n",
       "4                                     NaN       Paperback  9.78032E+12   \n",
       "...                                   ...             ...          ...   \n",
       "54296                                 NaN       Hardcover  9.78161E+12   \n",
       "54297                                 NaN       Hardcover  9.78006E+12   \n",
       "54298                                 NaN  Kindle Edition          NaN   \n",
       "54299                                 NaN       Hardcover   9.7808E+12   \n",
       "54300                                 NaN       Paperback  9.78052E+12   \n",
       "\n",
       "      book_pages  book_rating  book_rating_count  book_review_count  \\\n",
       "0      374 pages         4.33            5519135             160706   \n",
       "1      870 pages         4.48            2041594              33264   \n",
       "2      324 pages         4.27            3745197              79450   \n",
       "3      279 pages         4.25            2453620              54322   \n",
       "4      498 pages         3.58            4281268              97991   \n",
       "...          ...          ...                ...                ...   \n",
       "54296  256 pages         3.37                 27                  9   \n",
       "54297  256 pages         3.97                 34                  5   \n",
       "54298        NaN         3.66                 32                  3   \n",
       "54299  272 pages         3.82                867                187   \n",
       "54300  236 pages         3.58                 12                  3   \n",
       "\n",
       "                                              book_title  \\\n",
       "0                                       The Hunger Games   \n",
       "1              Harry Potter and the Order of the Phoenix   \n",
       "2                                  To Kill a Mockingbird   \n",
       "3                                    Pride and Prejudice   \n",
       "4                                               Twilight   \n",
       "...                                                  ...   \n",
       "54296  Taking the Field: A Fan's Quest to Run the Tea...   \n",
       "54297  The Baseball Talmud: Koufax, Greenberg, and th...   \n",
       "54298  Wilpon's Folly - The Story of a Man, His Fortu...   \n",
       "54299  He Wanted the Moon: The Madness and Medical Ge...   \n",
       "54300  The Anthology and the Rise of the Novel: From ...   \n",
       "\n",
       "                                                  genres  \\\n",
       "0      Young Adult|Fiction|Science Fiction|Dystopia|F...   \n",
       "1                            Fantasy|Young Adult|Fiction   \n",
       "2      Classics|Fiction|Historical|Historical Fiction...   \n",
       "3                               Classics|Fiction|Romance   \n",
       "4      Young Adult|Fantasy|Romance|Paranormal|Vampire...   \n",
       "...                                                  ...   \n",
       "54296  Sports|Baseball|Sports and Games|Sports|Nonfic...   \n",
       "54297                 Nonfiction|Sports and Games|Sports   \n",
       "54298                          Sports|Baseball|Abandoned   \n",
       "54299  Nonfiction|Autobiography|Memoir|Biography|Psyc...   \n",
       "54300  Criticism|Literary Criticism|Philosophy|Theory...   \n",
       "\n",
       "                                               image_url  \n",
       "0      https://images.gr-assets.com/books/1447303603l...  \n",
       "1      https://images.gr-assets.com/books/1255614970l...  \n",
       "2      https://images.gr-assets.com/books/1361975680l...  \n",
       "3      https://images.gr-assets.com/books/1320399351l...  \n",
       "4      https://images.gr-assets.com/books/1361039443l...  \n",
       "...                                                  ...  \n",
       "54296  https://images.gr-assets.com/books/1312074392l...  \n",
       "54297  https://images.gr-assets.com/books/1348841629l...  \n",
       "54298  https://images.gr-assets.com/books/1394277097l...  \n",
       "54299  https://images.gr-assets.com/books/1403192135l...  \n",
       "54300  https://images.gr-assets.com/books/1349014225l...  \n",
       "\n",
       "[54301 rows x 12 columns]"
      ],
      "text/html": "<div>\n<style scoped>\n    .dataframe tbody tr th:only-of-type {\n        vertical-align: middle;\n    }\n\n    .dataframe tbody tr th {\n        vertical-align: top;\n    }\n\n    .dataframe thead th {\n        text-align: right;\n    }\n</style>\n<table border=\"1\" class=\"dataframe\">\n  <thead>\n    <tr style=\"text-align: right;\">\n      <th></th>\n      <th>book_authors</th>\n      <th>book_desc</th>\n      <th>book_edition</th>\n      <th>book_format</th>\n      <th>book_isbn</th>\n      <th>book_pages</th>\n      <th>book_rating</th>\n      <th>book_rating_count</th>\n      <th>book_review_count</th>\n      <th>book_title</th>\n      <th>genres</th>\n      <th>image_url</th>\n    </tr>\n  </thead>\n  <tbody>\n    <tr>\n      <th>0</th>\n      <td>Suzanne Collins</td>\n      <td>Winning will make you famous. Losing means cer...</td>\n      <td>NaN</td>\n      <td>Hardcover</td>\n      <td>9.78044E+12</td>\n      <td>374 pages</td>\n      <td>4.33</td>\n      <td>5519135</td>\n      <td>160706</td>\n      <td>The Hunger Games</td>\n      <td>Young Adult|Fiction|Science Fiction|Dystopia|F...</td>\n      <td>https://images.gr-assets.com/books/1447303603l...</td>\n    </tr>\n    <tr>\n      <th>1</th>\n      <td>J.K. Rowling|Mary GrandPré</td>\n      <td>There is a door at the end of a silent corrido...</td>\n      <td>US Edition</td>\n      <td>Paperback</td>\n      <td>9.78044E+12</td>\n      <td>870 pages</td>\n      <td>4.48</td>\n      <td>2041594</td>\n      <td>33264</td>\n      <td>Harry Potter and the Order of the Phoenix</td>\n      <td>Fantasy|Young Adult|Fiction</td>\n      <td>https://images.gr-assets.com/books/1255614970l...</td>\n    </tr>\n    <tr>\n      <th>2</th>\n      <td>Harper Lee</td>\n      <td>The unforgettable novel of a childhood in a sl...</td>\n      <td>50th Anniversary</td>\n      <td>Paperback</td>\n      <td>9.78006E+12</td>\n      <td>324 pages</td>\n      <td>4.27</td>\n      <td>3745197</td>\n      <td>79450</td>\n      <td>To Kill a Mockingbird</td>\n      <td>Classics|Fiction|Historical|Historical Fiction...</td>\n      <td>https://images.gr-assets.com/books/1361975680l...</td>\n    </tr>\n    <tr>\n      <th>3</th>\n      <td>Jane Austen|Anna Quindlen|Mrs. Oliphant|George...</td>\n      <td>«È cosa ormai risaputa che a uno scapolo in po...</td>\n      <td>Modern Library Classics, USA / CAN</td>\n      <td>Paperback</td>\n      <td>9.78068E+12</td>\n      <td>279 pages</td>\n      <td>4.25</td>\n      <td>2453620</td>\n      <td>54322</td>\n      <td>Pride and Prejudice</td>\n      <td>Classics|Fiction|Romance</td>\n      <td>https://images.gr-assets.com/books/1320399351l...</td>\n    </tr>\n    <tr>\n      <th>4</th>\n      <td>Stephenie Meyer</td>\n      <td>About three things I was absolutely positive.F...</td>\n      <td>NaN</td>\n      <td>Paperback</td>\n      <td>9.78032E+12</td>\n      <td>498 pages</td>\n      <td>3.58</td>\n      <td>4281268</td>\n      <td>97991</td>\n      <td>Twilight</td>\n      <td>Young Adult|Fantasy|Romance|Paranormal|Vampire...</td>\n      <td>https://images.gr-assets.com/books/1361039443l...</td>\n    </tr>\n    <tr>\n      <th>...</th>\n      <td>...</td>\n      <td>...</td>\n      <td>...</td>\n      <td>...</td>\n      <td>...</td>\n      <td>...</td>\n      <td>...</td>\n      <td>...</td>\n      <td>...</td>\n      <td>...</td>\n      <td>...</td>\n      <td>...</td>\n    </tr>\n    <tr>\n      <th>54296</th>\n      <td>Howard Megdal</td>\n      <td>In this fearless and half-crazy story, Howard ...</td>\n      <td>NaN</td>\n      <td>Hardcover</td>\n      <td>9.78161E+12</td>\n      <td>256 pages</td>\n      <td>3.37</td>\n      <td>27</td>\n      <td>9</td>\n      <td>Taking the Field: A Fan's Quest to Run the Tea...</td>\n      <td>Sports|Baseball|Sports and Games|Sports|Nonfic...</td>\n      <td>https://images.gr-assets.com/books/1312074392l...</td>\n    </tr>\n    <tr>\n      <th>54297</th>\n      <td>Howard Megdal</td>\n      <td>From the icons of the game to the players who ...</td>\n      <td>NaN</td>\n      <td>Hardcover</td>\n      <td>9.78006E+12</td>\n      <td>256 pages</td>\n      <td>3.97</td>\n      <td>34</td>\n      <td>5</td>\n      <td>The Baseball Talmud: Koufax, Greenberg, and th...</td>\n      <td>Nonfiction|Sports and Games|Sports</td>\n      <td>https://images.gr-assets.com/books/1348841629l...</td>\n    </tr>\n    <tr>\n      <th>54298</th>\n      <td>Howard Megdal</td>\n      <td>NaN</td>\n      <td>NaN</td>\n      <td>Kindle Edition</td>\n      <td>NaN</td>\n      <td>NaN</td>\n      <td>3.66</td>\n      <td>32</td>\n      <td>3</td>\n      <td>Wilpon's Folly - The Story of a Man, His Fortu...</td>\n      <td>Sports|Baseball|Abandoned</td>\n      <td>https://images.gr-assets.com/books/1394277097l...</td>\n    </tr>\n    <tr>\n      <th>54299</th>\n      <td>Mimi Baird|Eve Claxton</td>\n      <td>Soon to be a major motion picture, from Brad P...</td>\n      <td>NaN</td>\n      <td>Hardcover</td>\n      <td>9.7808E+12</td>\n      <td>272 pages</td>\n      <td>3.82</td>\n      <td>867</td>\n      <td>187</td>\n      <td>He Wanted the Moon: The Madness and Medical Ge...</td>\n      <td>Nonfiction|Autobiography|Memoir|Biography|Psyc...</td>\n      <td>https://images.gr-assets.com/books/1403192135l...</td>\n    </tr>\n    <tr>\n      <th>54300</th>\n      <td>Leah Price</td>\n      <td>The Anthology and the Rise of the Novel brings...</td>\n      <td>NaN</td>\n      <td>Paperback</td>\n      <td>9.78052E+12</td>\n      <td>236 pages</td>\n      <td>3.58</td>\n      <td>12</td>\n      <td>3</td>\n      <td>The Anthology and the Rise of the Novel: From ...</td>\n      <td>Criticism|Literary Criticism|Philosophy|Theory...</td>\n      <td>https://images.gr-assets.com/books/1349014225l...</td>\n    </tr>\n  </tbody>\n</table>\n<p>54301 rows × 12 columns</p>\n</div>"
     },
     "metadata": {},
     "execution_count": 530
    }
   ],
   "source": [
    "red"
   ]
  },
  {
   "cell_type": "code",
   "execution_count": null,
   "metadata": {},
   "outputs": [],
   "source": []
  },
  {
   "cell_type": "code",
   "execution_count": null,
   "metadata": {},
   "outputs": [],
   "source": []
  },
  {
   "cell_type": "code",
   "execution_count": 531,
   "metadata": {},
   "outputs": [
    {
     "output_type": "execute_result",
     "data": {
      "text/plain": [
       "'https://images.gr-assets.com/books/1447303603l/2767052.jpg'"
      ]
     },
     "metadata": {},
     "execution_count": 531
    }
   ],
   "source": [
    "red.image_url[0]"
   ]
  },
  {
   "cell_type": "code",
   "execution_count": 532,
   "metadata": {},
   "outputs": [
    {
     "output_type": "execute_result",
     "data": {
      "text/plain": [
       "        book_rating  book_rating_count  book_review_count\n",
       "count  54301.000000       5.430100e+04        54301.00000\n",
       "mean       4.020027       4.350449e+04         2011.60218\n",
       "std        0.362100       2.126572e+05         7627.07287\n",
       "min        0.000000       0.000000e+00            0.00000\n",
       "25%        3.830000       4.070000e+02           35.00000\n",
       "50%        4.030000       2.811000e+03          188.00000\n",
       "75%        4.220000       1.274500e+04          822.00000\n",
       "max        5.000000       5.588580e+06       160776.00000"
      ],
      "text/html": "<div>\n<style scoped>\n    .dataframe tbody tr th:only-of-type {\n        vertical-align: middle;\n    }\n\n    .dataframe tbody tr th {\n        vertical-align: top;\n    }\n\n    .dataframe thead th {\n        text-align: right;\n    }\n</style>\n<table border=\"1\" class=\"dataframe\">\n  <thead>\n    <tr style=\"text-align: right;\">\n      <th></th>\n      <th>book_rating</th>\n      <th>book_rating_count</th>\n      <th>book_review_count</th>\n    </tr>\n  </thead>\n  <tbody>\n    <tr>\n      <th>count</th>\n      <td>54301.000000</td>\n      <td>5.430100e+04</td>\n      <td>54301.00000</td>\n    </tr>\n    <tr>\n      <th>mean</th>\n      <td>4.020027</td>\n      <td>4.350449e+04</td>\n      <td>2011.60218</td>\n    </tr>\n    <tr>\n      <th>std</th>\n      <td>0.362100</td>\n      <td>2.126572e+05</td>\n      <td>7627.07287</td>\n    </tr>\n    <tr>\n      <th>min</th>\n      <td>0.000000</td>\n      <td>0.000000e+00</td>\n      <td>0.00000</td>\n    </tr>\n    <tr>\n      <th>25%</th>\n      <td>3.830000</td>\n      <td>4.070000e+02</td>\n      <td>35.00000</td>\n    </tr>\n    <tr>\n      <th>50%</th>\n      <td>4.030000</td>\n      <td>2.811000e+03</td>\n      <td>188.00000</td>\n    </tr>\n    <tr>\n      <th>75%</th>\n      <td>4.220000</td>\n      <td>1.274500e+04</td>\n      <td>822.00000</td>\n    </tr>\n    <tr>\n      <th>max</th>\n      <td>5.000000</td>\n      <td>5.588580e+06</td>\n      <td>160776.00000</td>\n    </tr>\n  </tbody>\n</table>\n</div>"
     },
     "metadata": {},
     "execution_count": 532
    }
   ],
   "source": [
    "red.describe()"
   ]
  },
  {
   "cell_type": "code",
   "execution_count": 533,
   "metadata": {},
   "outputs": [
    {
     "output_type": "execute_result",
     "data": {
      "text/plain": [
       "        book_authors                                          book_desc  \\\n",
       "count          54301                                              52970   \n",
       "unique         27159                                              51781   \n",
       "top     Stephen King  هذه هي طبعة \"دار الفكر - بيروت\" وهي آخر طبعة ع...   \n",
       "freq             112                                                 38   \n",
       "\n",
       "         book_edition book_format    book_isbn book_pages book_title   genres  \\\n",
       "count            5453       52645        41435      51779      54301    51059   \n",
       "unique           2134         147          548       1403      48483    30094   \n",
       "top     First Edition   Paperback  9.78006E+12  320 pages       1984  Fiction   \n",
       "freq              437       28725         2421       1077         17      234   \n",
       "\n",
       "                                                image_url  \n",
       "count                                               53618  \n",
       "unique                                              53618  \n",
       "top     https://images.gr-assets.com/books/1389480470l...  \n",
       "freq                                                    1  "
      ],
      "text/html": "<div>\n<style scoped>\n    .dataframe tbody tr th:only-of-type {\n        vertical-align: middle;\n    }\n\n    .dataframe tbody tr th {\n        vertical-align: top;\n    }\n\n    .dataframe thead th {\n        text-align: right;\n    }\n</style>\n<table border=\"1\" class=\"dataframe\">\n  <thead>\n    <tr style=\"text-align: right;\">\n      <th></th>\n      <th>book_authors</th>\n      <th>book_desc</th>\n      <th>book_edition</th>\n      <th>book_format</th>\n      <th>book_isbn</th>\n      <th>book_pages</th>\n      <th>book_title</th>\n      <th>genres</th>\n      <th>image_url</th>\n    </tr>\n  </thead>\n  <tbody>\n    <tr>\n      <th>count</th>\n      <td>54301</td>\n      <td>52970</td>\n      <td>5453</td>\n      <td>52645</td>\n      <td>41435</td>\n      <td>51779</td>\n      <td>54301</td>\n      <td>51059</td>\n      <td>53618</td>\n    </tr>\n    <tr>\n      <th>unique</th>\n      <td>27159</td>\n      <td>51781</td>\n      <td>2134</td>\n      <td>147</td>\n      <td>548</td>\n      <td>1403</td>\n      <td>48483</td>\n      <td>30094</td>\n      <td>53618</td>\n    </tr>\n    <tr>\n      <th>top</th>\n      <td>Stephen King</td>\n      <td>هذه هي طبعة \"دار الفكر - بيروت\" وهي آخر طبعة ع...</td>\n      <td>First Edition</td>\n      <td>Paperback</td>\n      <td>9.78006E+12</td>\n      <td>320 pages</td>\n      <td>1984</td>\n      <td>Fiction</td>\n      <td>https://images.gr-assets.com/books/1389480470l...</td>\n    </tr>\n    <tr>\n      <th>freq</th>\n      <td>112</td>\n      <td>38</td>\n      <td>437</td>\n      <td>28725</td>\n      <td>2421</td>\n      <td>1077</td>\n      <td>17</td>\n      <td>234</td>\n      <td>1</td>\n    </tr>\n  </tbody>\n</table>\n</div>"
     },
     "metadata": {},
     "execution_count": 533
    }
   ],
   "source": [
    "red.describe(include='O')"
   ]
  },
  {
   "cell_type": "code",
   "execution_count": 534,
   "metadata": {},
   "outputs": [
    {
     "output_type": "execute_result",
     "data": {
      "text/plain": [
       "book_authors         0.000000\n",
       "book_desc            0.024512\n",
       "book_edition         0.899578\n",
       "book_format          0.030497\n",
       "book_isbn            0.236939\n",
       "book_pages           0.046445\n",
       "book_rating          0.000000\n",
       "book_rating_count    0.000000\n",
       "book_review_count    0.000000\n",
       "book_title           0.000000\n",
       "genres               0.059704\n",
       "image_url            0.012578\n",
       "dtype: float64"
      ]
     },
     "metadata": {},
     "execution_count": 534
    }
   ],
   "source": [
    "red.isnull().mean()"
   ]
  },
  {
   "cell_type": "code",
   "execution_count": 535,
   "metadata": {},
   "outputs": [],
   "source": [
    "red.drop(red[red['book_desc'].isna()].index,inplace=True)"
   ]
  },
  {
   "cell_type": "code",
   "execution_count": 536,
   "metadata": {},
   "outputs": [],
   "source": [
    "red=red.drop(['book_edition','book_isbn','image_url','book_pages'],1)"
   ]
  },
  {
   "cell_type": "code",
   "execution_count": 537,
   "metadata": {},
   "outputs": [
    {
     "output_type": "execute_result",
     "data": {
      "text/plain": [
       "book_authors            0\n",
       "book_desc               0\n",
       "book_format          1352\n",
       "book_rating             0\n",
       "book_rating_count       0\n",
       "book_review_count       0\n",
       "book_title              0\n",
       "genres               2793\n",
       "dtype: int64"
      ]
     },
     "metadata": {},
     "execution_count": 537
    }
   ],
   "source": [
    "red.isna().sum()"
   ]
  },
  {
   "cell_type": "code",
   "execution_count": 538,
   "metadata": {},
   "outputs": [],
   "source": [
    "red=red.dropna()"
   ]
  },
  {
   "cell_type": "code",
   "execution_count": 539,
   "metadata": {},
   "outputs": [
    {
     "output_type": "execute_result",
     "data": {
      "text/plain": [
       "array(['Hardcover', 'Paperback', 'Mass Market Paperback', 'ebook',\n",
       "       'Board book', 'Boxed Set', 'Audio CD', 'Capa comum',\n",
       "       'Kindle Edition', 'Audio Cassette', 'Capa dura', 'Box Set', 'Nook',\n",
       "       'Library Binding', 'Pasta blanda', 'Slipcased Hardcover',\n",
       "       'Broschiert', 'Unknown Binding', 'Trade Paperback', 'Board Book',\n",
       "       'Paperback ', 'MP3 CD', 'Audiobook', 'cloth', 'Brochura',\n",
       "       'Leather Bound', 'pocket', 'Audio', 'Textbook Binding',\n",
       "       'Paperback/Kindle', 'paper', 'Perfect Paperback',\n",
       "       'Digital virtual book', 'Hardcover Slipcased ', 'unknown',\n",
       "       'Paper back', 'Paperback, Kindle, Ebook, Audio',\n",
       "       'Paperback and Kindle', 'online serial', 'Klappenbroschur',\n",
       "       'Audible Audio', 'Hardcover im Schuber', 'Poche', 'paperback',\n",
       "       'Graphic Novels', 'broché', 'Science Fiction Book Club Omnibus',\n",
       "       'Newsprint', 'Spiral-bound', 'Mass Market', 'Comic',\n",
       "       'Hardcover Boxed Set', 'Taschenbuch', 'Mass Market Paperback ',\n",
       "       'Hardback', 'Gebundene Ausgabe', 'CD-ROM', 'hardbound',\n",
       "       'paperback, Kindle eBook', 'Kindle', 'Softcover', 'hardcover',\n",
       "       'Broché', 'Online Fiction', 'Hardbound', 'eBook Kindle',\n",
       "       'online fiction', 'Bonded Leather', 'paper book', 'Bolsillo',\n",
       "       'Capa mole', 'Paperback, eBook', 'Box-Set', 'capa mole',\n",
       "       'Tapa dura con sobrecubierta', 'Hard Cover', 'Bìa mềm', 'Gebunden',\n",
       "       'Flexibound', 'Trade Paper', 'Capa mole - 15,5 x 23 x 2cm',\n",
       "       'Trade paperback', 'Cofanetto', 'コミック', 'Capa Mole', 'Vinyl Cover',\n",
       "       'Digital Comic', 'Large Paperback',\n",
       "       'Interactive Fiction, Gamebook', 'revised edition',\n",
       "       'School & Library Binding', 'Hardcover Chapbook', 'Wattpad',\n",
       "       'Board', 'Hardcover, Case bound', 'Audio CD ', 'text', 'hardback',\n",
       "       'Capa Dura', 'PDF', 'Innbundet', 'Newsletter Serial', 'web', '文庫',\n",
       "       'Diary', 'Kovakantinen', 'Online', 'Digital', 'Imitation Leather',\n",
       "       'Мягкая обложка (Paperback)', 'Hardcover-spiral', 'Tapa blanda',\n",
       "       'Online Fiction - Complete', '単行本', 'Unbound', 'Edición Kindle',\n",
       "       ' Trade Paperback', 'Pamphlet', 'Big Book', 'Brossura', 'Podcast',\n",
       "       'Audio Book', 'Paperback (عربي-English)', 'PDF ', 'audio cassette',\n",
       "       'free online', 'Other Format', 'Novelty Book', 'Podiobook',\n",
       "       'Tankobon Hardcover', 'Turtleback', 'Audio Cd', 'Casebound',\n",
       "       'audiobook', 'Bantam New Fiction'], dtype=object)"
      ]
     },
     "metadata": {},
     "execution_count": 539
    }
   ],
   "source": [
    "pd.unique(red['book_format'])"
   ]
  },
  {
   "cell_type": "code",
   "execution_count": 540,
   "metadata": {
    "scrolled": true
   },
   "outputs": [
    {
     "output_type": "execute_result",
     "data": {
      "text/plain": [
       "\"A funny, often poignant tale of boy meets girl with a twist: what if one of them couldn't stop slipping in and out of time? Highly original and imaginative, this debut novel raises questions about life, love, and the effects of time on relationships.Audrey Niffenegger’s innovative debut, The Time Traveler’s Wife, is the story of Clare, a beautiful art student, and Henry, an adventuresome librarian, who have known each other since Clare was six and Henry was thirty-six, and were married when Clare was twenty-three and Henry thirty-one. Impossible but true, because Henry is one of the first people diagnosed with Chrono-Displacement Disorder: periodically his genetic clock resets and he finds himself misplaced in time, pulled to moments of emotional gravity in his life, past and future. His disappearances are spontaneous, his experiences unpredictable, alternately harrowing and amusing. The Time Traveler’s Wife depicts the effects of time travel on Henry and Clare’s marriage and their passionate love for each other as the story unfolds from both points of view. Clare and Henry attempt to live normal lives, pursuing familiar goals—steady jobs, good friends, children of their own. All of this is threatened by something they can neither prevent nor control, making their story intensely moving and entirely unforgettable.\""
      ]
     },
     "metadata": {},
     "execution_count": 540
    }
   ],
   "source": [
    "red.book_desc[30]"
   ]
  },
  {
   "cell_type": "code",
   "execution_count": 541,
   "metadata": {
    "scrolled": true
   },
   "outputs": [
    {
     "output_type": "execute_result",
     "data": {
      "text/plain": [
       "                                        book_authors  \\\n",
       "0                                    Suzanne Collins   \n",
       "1                         J.K. Rowling|Mary GrandPré   \n",
       "2                                         Harper Lee   \n",
       "3  Jane Austen|Anna Quindlen|Mrs. Oliphant|George...   \n",
       "4                                    Stephenie Meyer   \n",
       "\n",
       "                                           book_desc book_format  book_rating  \\\n",
       "0  Winning will make you famous. Losing means cer...   Hardcover         4.33   \n",
       "1  There is a door at the end of a silent corrido...   Paperback         4.48   \n",
       "2  The unforgettable novel of a childhood in a sl...   Paperback         4.27   \n",
       "3  «È cosa ormai risaputa che a uno scapolo in po...   Paperback         4.25   \n",
       "4  About three things I was absolutely positive.F...   Paperback         3.58   \n",
       "\n",
       "   book_rating_count  book_review_count  \\\n",
       "0            5519135             160706   \n",
       "1            2041594              33264   \n",
       "2            3745197              79450   \n",
       "3            2453620              54322   \n",
       "4            4281268              97991   \n",
       "\n",
       "                                  book_title  \\\n",
       "0                           The Hunger Games   \n",
       "1  Harry Potter and the Order of the Phoenix   \n",
       "2                      To Kill a Mockingbird   \n",
       "3                        Pride and Prejudice   \n",
       "4                                   Twilight   \n",
       "\n",
       "                                              genres  \n",
       "0  Young Adult|Fiction|Science Fiction|Dystopia|F...  \n",
       "1                        Fantasy|Young Adult|Fiction  \n",
       "2  Classics|Fiction|Historical|Historical Fiction...  \n",
       "3                           Classics|Fiction|Romance  \n",
       "4  Young Adult|Fantasy|Romance|Paranormal|Vampire...  "
      ],
      "text/html": "<div>\n<style scoped>\n    .dataframe tbody tr th:only-of-type {\n        vertical-align: middle;\n    }\n\n    .dataframe tbody tr th {\n        vertical-align: top;\n    }\n\n    .dataframe thead th {\n        text-align: right;\n    }\n</style>\n<table border=\"1\" class=\"dataframe\">\n  <thead>\n    <tr style=\"text-align: right;\">\n      <th></th>\n      <th>book_authors</th>\n      <th>book_desc</th>\n      <th>book_format</th>\n      <th>book_rating</th>\n      <th>book_rating_count</th>\n      <th>book_review_count</th>\n      <th>book_title</th>\n      <th>genres</th>\n    </tr>\n  </thead>\n  <tbody>\n    <tr>\n      <th>0</th>\n      <td>Suzanne Collins</td>\n      <td>Winning will make you famous. Losing means cer...</td>\n      <td>Hardcover</td>\n      <td>4.33</td>\n      <td>5519135</td>\n      <td>160706</td>\n      <td>The Hunger Games</td>\n      <td>Young Adult|Fiction|Science Fiction|Dystopia|F...</td>\n    </tr>\n    <tr>\n      <th>1</th>\n      <td>J.K. Rowling|Mary GrandPré</td>\n      <td>There is a door at the end of a silent corrido...</td>\n      <td>Paperback</td>\n      <td>4.48</td>\n      <td>2041594</td>\n      <td>33264</td>\n      <td>Harry Potter and the Order of the Phoenix</td>\n      <td>Fantasy|Young Adult|Fiction</td>\n    </tr>\n    <tr>\n      <th>2</th>\n      <td>Harper Lee</td>\n      <td>The unforgettable novel of a childhood in a sl...</td>\n      <td>Paperback</td>\n      <td>4.27</td>\n      <td>3745197</td>\n      <td>79450</td>\n      <td>To Kill a Mockingbird</td>\n      <td>Classics|Fiction|Historical|Historical Fiction...</td>\n    </tr>\n    <tr>\n      <th>3</th>\n      <td>Jane Austen|Anna Quindlen|Mrs. Oliphant|George...</td>\n      <td>«È cosa ormai risaputa che a uno scapolo in po...</td>\n      <td>Paperback</td>\n      <td>4.25</td>\n      <td>2453620</td>\n      <td>54322</td>\n      <td>Pride and Prejudice</td>\n      <td>Classics|Fiction|Romance</td>\n    </tr>\n    <tr>\n      <th>4</th>\n      <td>Stephenie Meyer</td>\n      <td>About three things I was absolutely positive.F...</td>\n      <td>Paperback</td>\n      <td>3.58</td>\n      <td>4281268</td>\n      <td>97991</td>\n      <td>Twilight</td>\n      <td>Young Adult|Fantasy|Romance|Paranormal|Vampire...</td>\n    </tr>\n  </tbody>\n</table>\n</div>"
     },
     "metadata": {},
     "execution_count": 541
    }
   ],
   "source": [
    "red.head()"
   ]
  },
  {
   "cell_type": "code",
   "execution_count": 542,
   "metadata": {},
   "outputs": [],
   "source": [
    "def to_string(x):\n",
    "    if x:\n",
    "        return x.replace('|',' ')\n",
    "    else:\n",
    "        return ''\n",
    "    \n",
    "red['book_authors']=red['book_authors'].apply(lambda x: to_string(x))\n",
    "red['genres']=red['genres'].apply(lambda x: to_string(x))"
   ]
  },
  {
   "cell_type": "code",
   "execution_count": 543,
   "metadata": {},
   "outputs": [
    {
     "output_type": "execute_result",
     "data": {
      "text/plain": [
       "Index(['book_authors', 'book_desc', 'book_format', 'book_rating',\n",
       "       'book_rating_count', 'book_review_count', 'book_title', 'genres'],\n",
       "      dtype='object')"
      ]
     },
     "metadata": {},
     "execution_count": 543
    }
   ],
   "source": [
    "red.columns"
   ]
  },
  {
   "cell_type": "code",
   "execution_count": 544,
   "metadata": {},
   "outputs": [],
   "source": [
    "def soup(x):\n",
    "    return x.book_authors+' '+x.genres"
   ]
  },
  {
   "cell_type": "code",
   "execution_count": 545,
   "metadata": {},
   "outputs": [],
   "source": [
    "red['soup']=red.apply(soup, 1)"
   ]
  },
  {
   "cell_type": "code",
   "execution_count": 546,
   "metadata": {},
   "outputs": [],
   "source": [
    "black = (red.sample(replace = False, # Pick every row once\n",
    "                         frac = 0.3) # Random state for reproducibility\n",
    "            .sort_index()\n",
    "           .reset_index())"
   ]
  },
  {
   "cell_type": "code",
   "execution_count": null,
   "metadata": {},
   "outputs": [],
   "source": []
  },
  {
   "cell_type": "code",
   "execution_count": 547,
   "metadata": {},
   "outputs": [],
   "source": [
    "black.drop_duplicates(subset =\"book_title\", \n",
    "                     keep = False, inplace = True) \n",
    "  "
   ]
  },
  {
   "cell_type": "code",
   "execution_count": 559,
   "metadata": {},
   "outputs": [
    {
     "output_type": "execute_result",
     "data": {
      "text/plain": [
       "       index                              book_authors  \\\n",
       "8         31  E.B. White Garth Williams Rosemary Wells   \n",
       "13        50                J.K. Rowling Mary GrandPré   \n",
       "22       102                             Sue Monk Kidd   \n",
       "23       103                J.K. Rowling Mary GrandPré   \n",
       "24       105                         Jeffrey Eugenides   \n",
       "...      ...                                       ...   \n",
       "14693  54269            Wataru Watari 渡航 Ponkan⑧ ぽんかん⑧   \n",
       "14694  54271           Kazuma Kamachi Kiyotaka Haimura   \n",
       "14695  54274                            Yoshitoki Oima   \n",
       "14696  54293                              Alicia Erian   \n",
       "14697  54299                    Mimi Baird Eve Claxton   \n",
       "\n",
       "                                               book_desc  \\\n",
       "8      This beloved book by E. B. White, author of St...   \n",
       "13     Harry Potter's life is miserable. His parents ...   \n",
       "22     Set in South Carolina in 1964, The Secret Life...   \n",
       "23     Harry Potter's third year at Hogwarts is full ...   \n",
       "24     Middlesex tells the breathtaking story of Call...   \n",
       "...                                                  ...   \n",
       "14693  話題沸騰！ひねくれ男のダメ青春第二弾！！相も変わらず、ひねくれ者故に友達も彼女もいない高校生...   \n",
       "14694  「そこ、女の子が捕まってるから」“超能力”が一般科学として認知された学園都市、その「三沢塾」...   \n",
       "14695  “Tolong jangan lari, Nishimiya!”Ishida Shoya, ...   \n",
       "14696  Thirteen-year-old Jasira wants what every girl...   \n",
       "14697  Soon to be a major motion picture, from Brad P...   \n",
       "\n",
       "                 book_format  book_rating  book_rating_count  \\\n",
       "8                  Paperback         4.16            1199733   \n",
       "13                 Hardcover         4.46            5588580   \n",
       "22                 Paperback         4.03            1001343   \n",
       "23     Mass Market Paperback         4.55            2217128   \n",
       "24                 Paperback         3.99             539113   \n",
       "...                      ...          ...                ...   \n",
       "14693              Paperback         4.21                416   \n",
       "14694                     文庫         3.88                443   \n",
       "14695              Paperback         4.37               4300   \n",
       "14696              Paperback         3.60               3529   \n",
       "14697              Hardcover         3.82                867   \n",
       "\n",
       "       book_review_count                                         book_title  \\\n",
       "8                  14938                                    Charlotte's Web   \n",
       "13                 88816              Harry Potter and the Sorcerer's Stone   \n",
       "22                 28026                            The Secret Life of Bees   \n",
       "23                 42873           Harry Potter and the Prisoner of Azkaban   \n",
       "24                 21898                                          Middlesex   \n",
       "...                  ...                                                ...   \n",
       "14693                 19                              やはり俺の青春ラブコメはまちがっている 2   \n",
       "14694                 13                                       とある魔術の禁書目録 2   \n",
       "14695                299                              The Shape of Voice 02   \n",
       "14696                531                                          Towelhead   \n",
       "14697                187  He Wanted the Moon: The Madness and Medical Ge...   \n",
       "\n",
       "                                                  genres  \\\n",
       "8                             Classics Childrens Fiction   \n",
       "13                           Fantasy Young Adult Fiction   \n",
       "22     Fiction Historical Historical Fiction Young Ad...   \n",
       "23                           Fantasy Young Adult Fiction   \n",
       "24     Fiction Historical Historical Fiction Contempo...   \n",
       "...                                                  ...   \n",
       "14693  Novels Light Novel Fiction Sequential Art Mang...   \n",
       "14694  Novels Light Novel Fantasy Science Fiction Seq...   \n",
       "14695  Sequential Art Manga Sequential Art Graphic No...   \n",
       "14696  Fiction Young Adult Young Adult Coming Of Age ...   \n",
       "14697  Nonfiction Autobiography Memoir Biography Psyc...   \n",
       "\n",
       "                                                    soup  \n",
       "8      E.B. White Garth Williams Rosemary Wells Class...  \n",
       "13     J.K. Rowling Mary GrandPré Fantasy Young Adult...  \n",
       "22     Sue Monk Kidd Fiction Historical Historical Fi...  \n",
       "23     J.K. Rowling Mary GrandPré Fantasy Young Adult...  \n",
       "24     Jeffrey Eugenides Fiction Historical Historica...  \n",
       "...                                                  ...  \n",
       "14693  Wataru Watari 渡航 Ponkan⑧ ぽんかん⑧ Novels Light No...  \n",
       "14694  Kazuma Kamachi Kiyotaka Haimura Novels Light N...  \n",
       "14695  Yoshitoki Oima Sequential Art Manga Sequential...  \n",
       "14696  Alicia Erian Fiction Young Adult Young Adult C...  \n",
       "14697  Mimi Baird Eve Claxton Nonfiction Autobiograph...  \n",
       "\n",
       "[13411 rows x 10 columns]"
      ],
      "text/html": "<div>\n<style scoped>\n    .dataframe tbody tr th:only-of-type {\n        vertical-align: middle;\n    }\n\n    .dataframe tbody tr th {\n        vertical-align: top;\n    }\n\n    .dataframe thead th {\n        text-align: right;\n    }\n</style>\n<table border=\"1\" class=\"dataframe\">\n  <thead>\n    <tr style=\"text-align: right;\">\n      <th></th>\n      <th>index</th>\n      <th>book_authors</th>\n      <th>book_desc</th>\n      <th>book_format</th>\n      <th>book_rating</th>\n      <th>book_rating_count</th>\n      <th>book_review_count</th>\n      <th>book_title</th>\n      <th>genres</th>\n      <th>soup</th>\n    </tr>\n  </thead>\n  <tbody>\n    <tr>\n      <th>8</th>\n      <td>31</td>\n      <td>E.B. White Garth Williams Rosemary Wells</td>\n      <td>This beloved book by E. B. White, author of St...</td>\n      <td>Paperback</td>\n      <td>4.16</td>\n      <td>1199733</td>\n      <td>14938</td>\n      <td>Charlotte's Web</td>\n      <td>Classics Childrens Fiction</td>\n      <td>E.B. White Garth Williams Rosemary Wells Class...</td>\n    </tr>\n    <tr>\n      <th>13</th>\n      <td>50</td>\n      <td>J.K. Rowling Mary GrandPré</td>\n      <td>Harry Potter's life is miserable. His parents ...</td>\n      <td>Hardcover</td>\n      <td>4.46</td>\n      <td>5588580</td>\n      <td>88816</td>\n      <td>Harry Potter and the Sorcerer's Stone</td>\n      <td>Fantasy Young Adult Fiction</td>\n      <td>J.K. Rowling Mary GrandPré Fantasy Young Adult...</td>\n    </tr>\n    <tr>\n      <th>22</th>\n      <td>102</td>\n      <td>Sue Monk Kidd</td>\n      <td>Set in South Carolina in 1964, The Secret Life...</td>\n      <td>Paperback</td>\n      <td>4.03</td>\n      <td>1001343</td>\n      <td>28026</td>\n      <td>The Secret Life of Bees</td>\n      <td>Fiction Historical Historical Fiction Young Ad...</td>\n      <td>Sue Monk Kidd Fiction Historical Historical Fi...</td>\n    </tr>\n    <tr>\n      <th>23</th>\n      <td>103</td>\n      <td>J.K. Rowling Mary GrandPré</td>\n      <td>Harry Potter's third year at Hogwarts is full ...</td>\n      <td>Mass Market Paperback</td>\n      <td>4.55</td>\n      <td>2217128</td>\n      <td>42873</td>\n      <td>Harry Potter and the Prisoner of Azkaban</td>\n      <td>Fantasy Young Adult Fiction</td>\n      <td>J.K. Rowling Mary GrandPré Fantasy Young Adult...</td>\n    </tr>\n    <tr>\n      <th>24</th>\n      <td>105</td>\n      <td>Jeffrey Eugenides</td>\n      <td>Middlesex tells the breathtaking story of Call...</td>\n      <td>Paperback</td>\n      <td>3.99</td>\n      <td>539113</td>\n      <td>21898</td>\n      <td>Middlesex</td>\n      <td>Fiction Historical Historical Fiction Contempo...</td>\n      <td>Jeffrey Eugenides Fiction Historical Historica...</td>\n    </tr>\n    <tr>\n      <th>...</th>\n      <td>...</td>\n      <td>...</td>\n      <td>...</td>\n      <td>...</td>\n      <td>...</td>\n      <td>...</td>\n      <td>...</td>\n      <td>...</td>\n      <td>...</td>\n      <td>...</td>\n    </tr>\n    <tr>\n      <th>14693</th>\n      <td>54269</td>\n      <td>Wataru Watari 渡航 Ponkan⑧ ぽんかん⑧</td>\n      <td>話題沸騰！ひねくれ男のダメ青春第二弾！！相も変わらず、ひねくれ者故に友達も彼女もいない高校生...</td>\n      <td>Paperback</td>\n      <td>4.21</td>\n      <td>416</td>\n      <td>19</td>\n      <td>やはり俺の青春ラブコメはまちがっている 2</td>\n      <td>Novels Light Novel Fiction Sequential Art Mang...</td>\n      <td>Wataru Watari 渡航 Ponkan⑧ ぽんかん⑧ Novels Light No...</td>\n    </tr>\n    <tr>\n      <th>14694</th>\n      <td>54271</td>\n      <td>Kazuma Kamachi Kiyotaka Haimura</td>\n      <td>「そこ、女の子が捕まってるから」“超能力”が一般科学として認知された学園都市、その「三沢塾」...</td>\n      <td>文庫</td>\n      <td>3.88</td>\n      <td>443</td>\n      <td>13</td>\n      <td>とある魔術の禁書目録 2</td>\n      <td>Novels Light Novel Fantasy Science Fiction Seq...</td>\n      <td>Kazuma Kamachi Kiyotaka Haimura Novels Light N...</td>\n    </tr>\n    <tr>\n      <th>14695</th>\n      <td>54274</td>\n      <td>Yoshitoki Oima</td>\n      <td>“Tolong jangan lari, Nishimiya!”Ishida Shoya, ...</td>\n      <td>Paperback</td>\n      <td>4.37</td>\n      <td>4300</td>\n      <td>299</td>\n      <td>The Shape of Voice 02</td>\n      <td>Sequential Art Manga Sequential Art Graphic No...</td>\n      <td>Yoshitoki Oima Sequential Art Manga Sequential...</td>\n    </tr>\n    <tr>\n      <th>14696</th>\n      <td>54293</td>\n      <td>Alicia Erian</td>\n      <td>Thirteen-year-old Jasira wants what every girl...</td>\n      <td>Paperback</td>\n      <td>3.60</td>\n      <td>3529</td>\n      <td>531</td>\n      <td>Towelhead</td>\n      <td>Fiction Young Adult Young Adult Coming Of Age ...</td>\n      <td>Alicia Erian Fiction Young Adult Young Adult C...</td>\n    </tr>\n    <tr>\n      <th>14697</th>\n      <td>54299</td>\n      <td>Mimi Baird Eve Claxton</td>\n      <td>Soon to be a major motion picture, from Brad P...</td>\n      <td>Hardcover</td>\n      <td>3.82</td>\n      <td>867</td>\n      <td>187</td>\n      <td>He Wanted the Moon: The Madness and Medical Ge...</td>\n      <td>Nonfiction Autobiography Memoir Biography Psyc...</td>\n      <td>Mimi Baird Eve Claxton Nonfiction Autobiograph...</td>\n    </tr>\n  </tbody>\n</table>\n<p>13411 rows × 10 columns</p>\n</div>"
     },
     "metadata": {},
     "execution_count": 559
    }
   ],
   "source": [
    "black"
   ]
  },
  {
   "cell_type": "code",
   "execution_count": 548,
   "metadata": {},
   "outputs": [],
   "source": [
    "pink=black.sort_values(by='genres',ascending=True)"
   ]
  },
  {
   "cell_type": "markdown",
   "metadata": {},
   "source": [
    "# TF-IDF Vectorizer"
   ]
  },
  {
   "cell_type": "code",
   "execution_count": 549,
   "metadata": {},
   "outputs": [],
   "source": [
    "from sklearn.feature_extraction.text import TfidfVectorizer\n",
    "tf=TfidfVectorizer()\n",
    "tf_mat=tf.fit_transform(black.soup)"
   ]
  },
  {
   "cell_type": "code",
   "execution_count": 550,
   "metadata": {},
   "outputs": [
    {
     "output_type": "execute_result",
     "data": {
      "text/plain": [
       "(13411, 12380)"
      ]
     },
     "metadata": {},
     "execution_count": 550
    }
   ],
   "source": [
    "tf_mat.shape"
   ]
  },
  {
   "cell_type": "markdown",
   "metadata": {},
   "source": [
    "# Computing Sim Scores "
   ]
  },
  {
   "cell_type": "code",
   "execution_count": 551,
   "metadata": {},
   "outputs": [],
   "source": [
    "sig=sigmoid_kernel(tf_mat,tf_mat)"
   ]
  },
  {
   "cell_type": "code",
   "execution_count": 552,
   "metadata": {},
   "outputs": [
    {
     "output_type": "execute_result",
     "data": {
      "text/plain": [
       "book_title\n",
       "Charlotte's Web                                                                                                    8\n",
       "Harry Potter and the Sorcerer's Stone                                                                             13\n",
       "The Secret Life of Bees                                                                                           22\n",
       "Harry Potter and the Prisoner of Azkaban                                                                          23\n",
       "Middlesex                                                                                                         24\n",
       "                                                                                                               ...  \n",
       "やはり俺の青春ラブコメはまちがっている 2                                                                                          14693\n",
       "とある魔術の禁書目録 2                                                                                                   14694\n",
       "The Shape of Voice 02                                                                                          14695\n",
       "Towelhead                                                                                                      14696\n",
       "He Wanted the Moon: The Madness and Medical Genius of Dr. Perry Baird, and His Daughter's Quest to Know Him    14697\n",
       "Length: 13411, dtype: int64"
      ]
     },
     "metadata": {},
     "execution_count": 552
    }
   ],
   "source": [
    "ind=black.index\n",
    "titles=black['book_title']\n",
    "idx=pd.Series(ind,index=titles).drop_duplicates()\n",
    "idx"
   ]
  },
  {
   "cell_type": "code",
   "execution_count": 553,
   "metadata": {},
   "outputs": [],
   "source": [
    "def get_recom(title,sig=sig):\n",
    "    idcs=idx[title]\n",
    "    sim_sc=list(enumerate(sim[idcs]))\n",
    "    sim_sc=sorted(sim_sc,key=lambda x: x[1],reverse=True)\n",
    "    sim_sc=sim_sc[1:21]\n",
    "    book_indices=[i[0] for i in sim_sc]\n",
    "    wss=[]\n",
    "    for i in book_indices:\n",
    "        wss.append(black['book_title'].iloc[i])\n",
    "        \n",
    "    return wss"
   ]
  },
  {
   "cell_type": "code",
   "execution_count": 563,
   "metadata": {},
   "outputs": [
    {
     "output_type": "execute_result",
     "data": {
      "text/plain": [
       "\"Charlotte's Web\""
      ]
     },
     "metadata": {},
     "execution_count": 563
    }
   ],
   "source": [
    "black['book_title'][8]"
   ]
  },
  {
   "cell_type": "code",
   "execution_count": 561,
   "metadata": {},
   "outputs": [
    {
     "output_type": "execute_result",
     "data": {
      "text/plain": [
       "[\"Beach Blondes: June Dreams / July's Promise / August Magic\",\n",
       " 'The Call of Soul',\n",
       " 'Limits of Destiny',\n",
       " \"Anil's Ghost\",\n",
       " 'The Murder on the Links',\n",
       " 'Love Is Overdue',\n",
       " 'Ten Tiny Breaths',\n",
       " 'To Have and Have Not',\n",
       " 'Just in Case',\n",
       " 'The Double Helix',\n",
       " 'A Menina do Mar',\n",
       " 'Hawkes Harbor',\n",
       " 'Jackaroo',\n",
       " 'The Twilight Saga: The Official Illustrated Guide',\n",
       " 'Angels Walking',\n",
       " 'Dreams of Gods & Monsters',\n",
       " 'Women of the Silk',\n",
       " 'Miss Benjamin Had a Donkey',\n",
       " 'If I Return',\n",
       " 'Close Up and Personal']"
      ]
     },
     "metadata": {},
     "execution_count": 561
    }
   ],
   "source": [
    "recom = get_recom(\"Charlotte's Web\")"
   ]
  },
  {
   "cell_type": "code",
   "execution_count": 440,
   "metadata": {},
   "outputs": [
    {
     "output_type": "execute_result",
     "data": {
      "text/plain": [
       "'J.R.R. Tolkien 4-Book Boxed Set: The Hobbit and The Lord of the Rings'"
      ]
     },
     "metadata": {},
     "execution_count": 440
    }
   ],
   "source": [
    "black['book_title'].iloc[2]"
   ]
  },
  {
   "cell_type": "code",
   "execution_count": 442,
   "metadata": {},
   "outputs": [
    {
     "output_type": "execute_result",
     "data": {
      "text/plain": [
       "'Nightshifted'"
      ]
     },
     "metadata": {},
     "execution_count": 442
    }
   ],
   "source": [
    "black['book_title'][6948]"
   ]
  },
  {
   "cell_type": "code",
   "execution_count": 402,
   "metadata": {},
   "outputs": [
    {
     "output_type": "execute_result",
     "data": {
      "text/plain": [
       "[6948,\n",
       " 7110,\n",
       " 8063,\n",
       " 8242,\n",
       " 2712,\n",
       " 4109,\n",
       " 4393,\n",
       " 7176,\n",
       " 3807,\n",
       " 8552,\n",
       " 2703,\n",
       " 5501,\n",
       " 5354,\n",
       " 3688,\n",
       " 646,\n",
       " 1950,\n",
       " 433,\n",
       " 5065,\n",
       " 3081,\n",
       " 8290]"
      ]
     },
     "metadata": {},
     "execution_count": 402
    }
   ],
   "source": [
    "sim_sc=list(enumerate(sim[3]))\n",
    "sim_sc=sorted(sim_sc,key=lambda x: x[1],reverse=True)\n",
    "sim_sc=sim_sc[1:21]\n",
    "ind=[i[0] for i in sim_sc]\n",
    "ind"
   ]
  },
  {
   "cell_type": "code",
   "execution_count": 25,
   "metadata": {},
   "outputs": [
    {
     "output_type": "execute_result",
     "data": {
      "text/plain": [
       "      index                book_authors  \\\n",
       "0         0             Suzanne Collins   \n",
       "1         1  J.K. Rowling Mary GrandPré   \n",
       "2         5                Markus Zusak   \n",
       "3         7               George Orwell   \n",
       "4         8           Margaret Mitchell   \n",
       "...     ...                         ...   \n",
       "9793  54263              Heinrich Heine   \n",
       "9794  54274              Yoshitoki Oima   \n",
       "9795  54278     Kiyohiko Azuma あずま きよひこ   \n",
       "9796  54293                Alicia Erian   \n",
       "9797  54299      Mimi Baird Eve Claxton   \n",
       "\n",
       "                                              book_desc book_format  \\\n",
       "0     Winning will make you famous. Losing means cer...   Hardcover   \n",
       "1     There is a door at the end of a silent corrido...   Paperback   \n",
       "2     Trying to make sense of the horrors of World W...   Hardcover   \n",
       "3     مزرعة الحيوانات هي رائعة جورج أورويل الخالدة.....   Paperback   \n",
       "4     Gone with the Wind is a novel written by Marga...   Paperback   \n",
       "...                                                 ...         ...   \n",
       "9793  Christian Johann Heinrich Heine (1797-1856) wa...   Hardcover   \n",
       "9794  “Tolong jangan lari, Nishimiya!”Ishida Shoya, ...   Paperback   \n",
       "9795  Yotsuba recycles! Gets a bike! Learns about st...   Paperback   \n",
       "9796  Thirteen-year-old Jasira wants what every girl...   Paperback   \n",
       "9797  Soon to be a major motion picture, from Brad P...   Hardcover   \n",
       "\n",
       "      book_rating  book_rating_count  book_review_count  \\\n",
       "0            4.33            5519135             160706   \n",
       "1            4.48            2041594              33264   \n",
       "2            4.36            1485632             100821   \n",
       "3            3.90            2235084              42156   \n",
       "4            4.29             969181              17452   \n",
       "...           ...                ...                ...   \n",
       "9793         4.35                352                 14   \n",
       "9794         4.37               4300                299   \n",
       "9795         4.56               2942                102   \n",
       "9796         3.60               3529                531   \n",
       "9797         3.82                867                187   \n",
       "\n",
       "                                             book_title  \\\n",
       "0                                      The Hunger Games   \n",
       "1             Harry Potter and the Order of the Phoenix   \n",
       "2                                        The Book Thief   \n",
       "3                                           Animal Farm   \n",
       "4                                    Gone with the Wind   \n",
       "...                                                 ...   \n",
       "9793                                Das Buch der Lieder   \n",
       "9794                              The Shape of Voice 02   \n",
       "9795                                  Yotsuba&!, Vol. 6   \n",
       "9796                                          Towelhead   \n",
       "9797  He Wanted the Moon: The Madness and Medical Ge...   \n",
       "\n",
       "                                                 genres  \\\n",
       "0     Young Adult Fiction Science Fiction Dystopia F...   \n",
       "1                           Fantasy Young Adult Fiction   \n",
       "2     Historical Historical Fiction Fiction Young Adult   \n",
       "3     Classics Fiction Science Fiction Dystopia Fant...   \n",
       "4     Classics Historical Historical Fiction Fiction...   \n",
       "...                                                 ...   \n",
       "9793  Poetry European Literature German Literature C...   \n",
       "9794  Sequential Art Manga Sequential Art Graphic No...   \n",
       "9795  Sequential Art Manga Sequential Art Comics Seq...   \n",
       "9796  Fiction Young Adult Young Adult Coming Of Age ...   \n",
       "9797  Nonfiction Autobiography Memoir Biography Psyc...   \n",
       "\n",
       "                                                   soup  \n",
       "0     Suzanne Collins Young Adult Fiction Science Fi...  \n",
       "1     J.K. Rowling Mary GrandPré Fantasy Young Adult...  \n",
       "2     Markus Zusak Historical Historical Fiction Fic...  \n",
       "3     George Orwell Classics Fiction Science Fiction...  \n",
       "4     Margaret Mitchell Classics Historical Historic...  \n",
       "...                                                 ...  \n",
       "9793  Heinrich Heine Poetry European Literature Germ...  \n",
       "9794  Yoshitoki Oima Sequential Art Manga Sequential...  \n",
       "9795  Kiyohiko Azuma あずま きよひこ Sequential Art Manga S...  \n",
       "9796  Alicia Erian Fiction Young Adult Young Adult C...  \n",
       "9797  Mimi Baird Eve Claxton Nonfiction Autobiograph...  \n",
       "\n",
       "[9798 rows x 10 columns]"
      ],
      "text/html": "<div>\n<style scoped>\n    .dataframe tbody tr th:only-of-type {\n        vertical-align: middle;\n    }\n\n    .dataframe tbody tr th {\n        vertical-align: top;\n    }\n\n    .dataframe thead th {\n        text-align: right;\n    }\n</style>\n<table border=\"1\" class=\"dataframe\">\n  <thead>\n    <tr style=\"text-align: right;\">\n      <th></th>\n      <th>index</th>\n      <th>book_authors</th>\n      <th>book_desc</th>\n      <th>book_format</th>\n      <th>book_rating</th>\n      <th>book_rating_count</th>\n      <th>book_review_count</th>\n      <th>book_title</th>\n      <th>genres</th>\n      <th>soup</th>\n    </tr>\n  </thead>\n  <tbody>\n    <tr>\n      <th>0</th>\n      <td>0</td>\n      <td>Suzanne Collins</td>\n      <td>Winning will make you famous. Losing means cer...</td>\n      <td>Hardcover</td>\n      <td>4.33</td>\n      <td>5519135</td>\n      <td>160706</td>\n      <td>The Hunger Games</td>\n      <td>Young Adult Fiction Science Fiction Dystopia F...</td>\n      <td>Suzanne Collins Young Adult Fiction Science Fi...</td>\n    </tr>\n    <tr>\n      <th>1</th>\n      <td>1</td>\n      <td>J.K. Rowling Mary GrandPré</td>\n      <td>There is a door at the end of a silent corrido...</td>\n      <td>Paperback</td>\n      <td>4.48</td>\n      <td>2041594</td>\n      <td>33264</td>\n      <td>Harry Potter and the Order of the Phoenix</td>\n      <td>Fantasy Young Adult Fiction</td>\n      <td>J.K. Rowling Mary GrandPré Fantasy Young Adult...</td>\n    </tr>\n    <tr>\n      <th>2</th>\n      <td>5</td>\n      <td>Markus Zusak</td>\n      <td>Trying to make sense of the horrors of World W...</td>\n      <td>Hardcover</td>\n      <td>4.36</td>\n      <td>1485632</td>\n      <td>100821</td>\n      <td>The Book Thief</td>\n      <td>Historical Historical Fiction Fiction Young Adult</td>\n      <td>Markus Zusak Historical Historical Fiction Fic...</td>\n    </tr>\n    <tr>\n      <th>3</th>\n      <td>7</td>\n      <td>George Orwell</td>\n      <td>مزرعة الحيوانات هي رائعة جورج أورويل الخالدة.....</td>\n      <td>Paperback</td>\n      <td>3.90</td>\n      <td>2235084</td>\n      <td>42156</td>\n      <td>Animal Farm</td>\n      <td>Classics Fiction Science Fiction Dystopia Fant...</td>\n      <td>George Orwell Classics Fiction Science Fiction...</td>\n    </tr>\n    <tr>\n      <th>4</th>\n      <td>8</td>\n      <td>Margaret Mitchell</td>\n      <td>Gone with the Wind is a novel written by Marga...</td>\n      <td>Paperback</td>\n      <td>4.29</td>\n      <td>969181</td>\n      <td>17452</td>\n      <td>Gone with the Wind</td>\n      <td>Classics Historical Historical Fiction Fiction...</td>\n      <td>Margaret Mitchell Classics Historical Historic...</td>\n    </tr>\n    <tr>\n      <th>...</th>\n      <td>...</td>\n      <td>...</td>\n      <td>...</td>\n      <td>...</td>\n      <td>...</td>\n      <td>...</td>\n      <td>...</td>\n      <td>...</td>\n      <td>...</td>\n      <td>...</td>\n    </tr>\n    <tr>\n      <th>9793</th>\n      <td>54263</td>\n      <td>Heinrich Heine</td>\n      <td>Christian Johann Heinrich Heine (1797-1856) wa...</td>\n      <td>Hardcover</td>\n      <td>4.35</td>\n      <td>352</td>\n      <td>14</td>\n      <td>Das Buch der Lieder</td>\n      <td>Poetry European Literature German Literature C...</td>\n      <td>Heinrich Heine Poetry European Literature Germ...</td>\n    </tr>\n    <tr>\n      <th>9794</th>\n      <td>54274</td>\n      <td>Yoshitoki Oima</td>\n      <td>“Tolong jangan lari, Nishimiya!”Ishida Shoya, ...</td>\n      <td>Paperback</td>\n      <td>4.37</td>\n      <td>4300</td>\n      <td>299</td>\n      <td>The Shape of Voice 02</td>\n      <td>Sequential Art Manga Sequential Art Graphic No...</td>\n      <td>Yoshitoki Oima Sequential Art Manga Sequential...</td>\n    </tr>\n    <tr>\n      <th>9795</th>\n      <td>54278</td>\n      <td>Kiyohiko Azuma あずま きよひこ</td>\n      <td>Yotsuba recycles! Gets a bike! Learns about st...</td>\n      <td>Paperback</td>\n      <td>4.56</td>\n      <td>2942</td>\n      <td>102</td>\n      <td>Yotsuba&amp;!, Vol. 6</td>\n      <td>Sequential Art Manga Sequential Art Comics Seq...</td>\n      <td>Kiyohiko Azuma あずま きよひこ Sequential Art Manga S...</td>\n    </tr>\n    <tr>\n      <th>9796</th>\n      <td>54293</td>\n      <td>Alicia Erian</td>\n      <td>Thirteen-year-old Jasira wants what every girl...</td>\n      <td>Paperback</td>\n      <td>3.60</td>\n      <td>3529</td>\n      <td>531</td>\n      <td>Towelhead</td>\n      <td>Fiction Young Adult Young Adult Coming Of Age ...</td>\n      <td>Alicia Erian Fiction Young Adult Young Adult C...</td>\n    </tr>\n    <tr>\n      <th>9797</th>\n      <td>54299</td>\n      <td>Mimi Baird Eve Claxton</td>\n      <td>Soon to be a major motion picture, from Brad P...</td>\n      <td>Hardcover</td>\n      <td>3.82</td>\n      <td>867</td>\n      <td>187</td>\n      <td>He Wanted the Moon: The Madness and Medical Ge...</td>\n      <td>Nonfiction Autobiography Memoir Biography Psyc...</td>\n      <td>Mimi Baird Eve Claxton Nonfiction Autobiograph...</td>\n    </tr>\n  </tbody>\n</table>\n<p>9798 rows × 10 columns</p>\n</div>"
     },
     "metadata": {},
     "execution_count": 25
    }
   ],
   "source": [
    "black"
   ]
  },
  {
   "cell_type": "code",
   "execution_count": 73,
   "metadata": {},
   "outputs": [
    {
     "output_type": "execute_result",
     "data": {
      "text/plain": [
       "Index(['index', 'book_authors', 'book_desc', 'book_format', 'book_rating',\n",
       "       'book_rating_count', 'book_review_count', 'book_title', 'genres',\n",
       "       'soup'],\n",
       "      dtype='object')"
      ]
     },
     "metadata": {},
     "execution_count": 73
    }
   ],
   "source": [
    "black.columns"
   ]
  },
  {
   "cell_type": "code",
   "execution_count": 39,
   "metadata": {},
   "outputs": [],
   "source": [
    "green=black.drop(['index', 'book_authors', 'book_desc', 'book_format','genres','soup'],1)"
   ]
  },
  {
   "cell_type": "code",
   "execution_count": 119,
   "metadata": {},
   "outputs": [
    {
     "output_type": "execute_result",
     "data": {
      "text/plain": [
       "      book_rating  book_rating_count  book_review_count  \\\n",
       "0            4.33            5519135             160706   \n",
       "1            4.48            2041594              33264   \n",
       "2            4.36            1485632             100821   \n",
       "3            3.90            2235084              42156   \n",
       "4            4.29             969181              17452   \n",
       "...           ...                ...                ...   \n",
       "9793         4.35                352                 14   \n",
       "9794         4.37               4300                299   \n",
       "9795         4.56               2942                102   \n",
       "9796         3.60               3529                531   \n",
       "9797         3.82                867                187   \n",
       "\n",
       "                                             book_title  \n",
       "0                                      The Hunger Games  \n",
       "1             Harry Potter and the Order of the Phoenix  \n",
       "2                                        The Book Thief  \n",
       "3                                           Animal Farm  \n",
       "4                                    Gone with the Wind  \n",
       "...                                                 ...  \n",
       "9793                                Das Buch der Lieder  \n",
       "9794                              The Shape of Voice 02  \n",
       "9795                                  Yotsuba&!, Vol. 6  \n",
       "9796                                          Towelhead  \n",
       "9797  He Wanted the Moon: The Madness and Medical Ge...  \n",
       "\n",
       "[9798 rows x 4 columns]"
      ],
      "text/html": "<div>\n<style scoped>\n    .dataframe tbody tr th:only-of-type {\n        vertical-align: middle;\n    }\n\n    .dataframe tbody tr th {\n        vertical-align: top;\n    }\n\n    .dataframe thead th {\n        text-align: right;\n    }\n</style>\n<table border=\"1\" class=\"dataframe\">\n  <thead>\n    <tr style=\"text-align: right;\">\n      <th></th>\n      <th>book_rating</th>\n      <th>book_rating_count</th>\n      <th>book_review_count</th>\n      <th>book_title</th>\n    </tr>\n  </thead>\n  <tbody>\n    <tr>\n      <th>0</th>\n      <td>4.33</td>\n      <td>5519135</td>\n      <td>160706</td>\n      <td>The Hunger Games</td>\n    </tr>\n    <tr>\n      <th>1</th>\n      <td>4.48</td>\n      <td>2041594</td>\n      <td>33264</td>\n      <td>Harry Potter and the Order of the Phoenix</td>\n    </tr>\n    <tr>\n      <th>2</th>\n      <td>4.36</td>\n      <td>1485632</td>\n      <td>100821</td>\n      <td>The Book Thief</td>\n    </tr>\n    <tr>\n      <th>3</th>\n      <td>3.90</td>\n      <td>2235084</td>\n      <td>42156</td>\n      <td>Animal Farm</td>\n    </tr>\n    <tr>\n      <th>4</th>\n      <td>4.29</td>\n      <td>969181</td>\n      <td>17452</td>\n      <td>Gone with the Wind</td>\n    </tr>\n    <tr>\n      <th>...</th>\n      <td>...</td>\n      <td>...</td>\n      <td>...</td>\n      <td>...</td>\n    </tr>\n    <tr>\n      <th>9793</th>\n      <td>4.35</td>\n      <td>352</td>\n      <td>14</td>\n      <td>Das Buch der Lieder</td>\n    </tr>\n    <tr>\n      <th>9794</th>\n      <td>4.37</td>\n      <td>4300</td>\n      <td>299</td>\n      <td>The Shape of Voice 02</td>\n    </tr>\n    <tr>\n      <th>9795</th>\n      <td>4.56</td>\n      <td>2942</td>\n      <td>102</td>\n      <td>Yotsuba&amp;!, Vol. 6</td>\n    </tr>\n    <tr>\n      <th>9796</th>\n      <td>3.60</td>\n      <td>3529</td>\n      <td>531</td>\n      <td>Towelhead</td>\n    </tr>\n    <tr>\n      <th>9797</th>\n      <td>3.82</td>\n      <td>867</td>\n      <td>187</td>\n      <td>He Wanted the Moon: The Madness and Medical Ge...</td>\n    </tr>\n  </tbody>\n</table>\n<p>9798 rows × 4 columns</p>\n</div>"
     },
     "metadata": {},
     "execution_count": 119
    }
   ],
   "source": [
    "green"
   ]
  },
  {
   "cell_type": "code",
   "execution_count": 136,
   "metadata": {},
   "outputs": [
    {
     "output_type": "execute_result",
     "data": {
      "text/plain": [
       "                                             book_title  book_rating_count  \\\n",
       "0                       \"El Aleph\" de Jorge Luis Borges              124.0   \n",
       "1     \"Evil\" Arabs in American Popular Film: Orienta...                4.0   \n",
       "2     \"Exterminate All the Brutes\": One Man's Odysse...             1078.0   \n",
       "3                                                   \"O\"           612802.0   \n",
       "4             \"Repent, Harlequin!\" Said the Ticktockman             2347.0   \n",
       "...                                                 ...                ...   \n",
       "9432                 涼宮ハルヒの暴走 [Suzumiya Haruhi no Bōsō]              963.0   \n",
       "9433                                                 秦腔               13.0   \n",
       "9434                         黒執事 XIV [Kuroshitsuji XIV]             4859.0   \n",
       "9435                     黒執事 XVIII [Kuroshitsuji XVIII]             2858.0   \n",
       "9436                                            당신의 조각들             1373.0   \n",
       "\n",
       "      book_review_count  book_rating  \n",
       "0                   6.0         4.31  \n",
       "1                   0.0         4.50  \n",
       "2                  98.0         4.15  \n",
       "3               18309.0         4.22  \n",
       "4                 129.0         4.21  \n",
       "...                 ...          ...  \n",
       "9432               35.0         3.95  \n",
       "9433                1.0         4.46  \n",
       "9434              130.0         4.54  \n",
       "9435               97.0         4.48  \n",
       "9436              155.0         4.31  \n",
       "\n",
       "[9437 rows x 4 columns]"
      ],
      "text/html": "<div>\n<style scoped>\n    .dataframe tbody tr th:only-of-type {\n        vertical-align: middle;\n    }\n\n    .dataframe tbody tr th {\n        vertical-align: top;\n    }\n\n    .dataframe thead th {\n        text-align: right;\n    }\n</style>\n<table border=\"1\" class=\"dataframe\">\n  <thead>\n    <tr style=\"text-align: right;\">\n      <th></th>\n      <th>book_title</th>\n      <th>book_rating_count</th>\n      <th>book_review_count</th>\n      <th>book_rating</th>\n    </tr>\n  </thead>\n  <tbody>\n    <tr>\n      <th>0</th>\n      <td>\"El Aleph\" de Jorge Luis Borges</td>\n      <td>124.0</td>\n      <td>6.0</td>\n      <td>4.31</td>\n    </tr>\n    <tr>\n      <th>1</th>\n      <td>\"Evil\" Arabs in American Popular Film: Orienta...</td>\n      <td>4.0</td>\n      <td>0.0</td>\n      <td>4.50</td>\n    </tr>\n    <tr>\n      <th>2</th>\n      <td>\"Exterminate All the Brutes\": One Man's Odysse...</td>\n      <td>1078.0</td>\n      <td>98.0</td>\n      <td>4.15</td>\n    </tr>\n    <tr>\n      <th>3</th>\n      <td>\"O\"</td>\n      <td>612802.0</td>\n      <td>18309.0</td>\n      <td>4.22</td>\n    </tr>\n    <tr>\n      <th>4</th>\n      <td>\"Repent, Harlequin!\" Said the Ticktockman</td>\n      <td>2347.0</td>\n      <td>129.0</td>\n      <td>4.21</td>\n    </tr>\n    <tr>\n      <th>...</th>\n      <td>...</td>\n      <td>...</td>\n      <td>...</td>\n      <td>...</td>\n    </tr>\n    <tr>\n      <th>9432</th>\n      <td>涼宮ハルヒの暴走 [Suzumiya Haruhi no Bōsō]</td>\n      <td>963.0</td>\n      <td>35.0</td>\n      <td>3.95</td>\n    </tr>\n    <tr>\n      <th>9433</th>\n      <td>秦腔</td>\n      <td>13.0</td>\n      <td>1.0</td>\n      <td>4.46</td>\n    </tr>\n    <tr>\n      <th>9434</th>\n      <td>黒執事 XIV [Kuroshitsuji XIV]</td>\n      <td>4859.0</td>\n      <td>130.0</td>\n      <td>4.54</td>\n    </tr>\n    <tr>\n      <th>9435</th>\n      <td>黒執事 XVIII [Kuroshitsuji XVIII]</td>\n      <td>2858.0</td>\n      <td>97.0</td>\n      <td>4.48</td>\n    </tr>\n    <tr>\n      <th>9436</th>\n      <td>당신의 조각들</td>\n      <td>1373.0</td>\n      <td>155.0</td>\n      <td>4.31</td>\n    </tr>\n  </tbody>\n</table>\n<p>9437 rows × 4 columns</p>\n</div>"
     },
     "metadata": {},
     "execution_count": 136
    }
   ],
   "source": [
    "green=green.groupby(\"book_title\")[['book_rating_count','book_review_count','book_rating']].mean().reset_index()\n",
    "green"
   ]
  },
  {
   "cell_type": "code",
   "execution_count": 137,
   "metadata": {},
   "outputs": [
    {
     "output_type": "execute_result",
     "data": {
      "text/plain": [
       "                   book_rating_count  book_review_count  book_rating\n",
       "book_rating_count           1.000000           0.842553     0.052781\n",
       "book_review_count           0.842553           1.000000     0.060439\n",
       "book_rating                 0.052781           0.060439     1.000000"
      ],
      "text/html": "<div>\n<style scoped>\n    .dataframe tbody tr th:only-of-type {\n        vertical-align: middle;\n    }\n\n    .dataframe tbody tr th {\n        vertical-align: top;\n    }\n\n    .dataframe thead th {\n        text-align: right;\n    }\n</style>\n<table border=\"1\" class=\"dataframe\">\n  <thead>\n    <tr style=\"text-align: right;\">\n      <th></th>\n      <th>book_rating_count</th>\n      <th>book_review_count</th>\n      <th>book_rating</th>\n    </tr>\n  </thead>\n  <tbody>\n    <tr>\n      <th>book_rating_count</th>\n      <td>1.000000</td>\n      <td>0.842553</td>\n      <td>0.052781</td>\n    </tr>\n    <tr>\n      <th>book_review_count</th>\n      <td>0.842553</td>\n      <td>1.000000</td>\n      <td>0.060439</td>\n    </tr>\n    <tr>\n      <th>book_rating</th>\n      <td>0.052781</td>\n      <td>0.060439</td>\n      <td>1.000000</td>\n    </tr>\n  </tbody>\n</table>\n</div>"
     },
     "metadata": {},
     "execution_count": 137
    }
   ],
   "source": [
    "green.corr()"
   ]
  },
  {
   "cell_type": "code",
   "execution_count": 186,
   "metadata": {},
   "outputs": [],
   "source": [
    "de=green.pivot_table(index='book_title',columns=green.index,values='book_rating').fillna(0)"
   ]
  },
  {
   "cell_type": "code",
   "execution_count": 139,
   "metadata": {},
   "outputs": [
    {
     "output_type": "execute_result",
     "data": {
      "text/plain": [
       "                                                    0     1     2     3     \\\n",
       "book_title                                                                   \n",
       "\"El Aleph\" de Jorge Luis Borges                     4.31   0.0  0.00  0.00   \n",
       "\"Evil\" Arabs in American Popular Film: Oriental...  0.00   4.5  0.00  0.00   \n",
       "\"Exterminate All the Brutes\": One Man's Odyssey...  0.00   0.0  4.15  0.00   \n",
       "\"O\"                                                 0.00   0.0  0.00  4.22   \n",
       "\"Repent, Harlequin!\" Said the Ticktockman           0.00   0.0  0.00  0.00   \n",
       "...                                                  ...   ...   ...   ...   \n",
       "涼宮ハルヒの暴走 [Suzumiya Haruhi no Bōsō]                  0.00   0.0  0.00  0.00   \n",
       "秦腔                                                  0.00   0.0  0.00  0.00   \n",
       "黒執事 XIV [Kuroshitsuji XIV]                          0.00   0.0  0.00  0.00   \n",
       "黒執事 XVIII [Kuroshitsuji XVIII]                      0.00   0.0  0.00  0.00   \n",
       "당신의 조각들                                             0.00   0.0  0.00  0.00   \n",
       "\n",
       "                                                    4     5     6     7     \\\n",
       "book_title                                                                   \n",
       "\"El Aleph\" de Jorge Luis Borges                     0.00   0.0   0.0   0.0   \n",
       "\"Evil\" Arabs in American Popular Film: Oriental...  0.00   0.0   0.0   0.0   \n",
       "\"Exterminate All the Brutes\": One Man's Odyssey...  0.00   0.0   0.0   0.0   \n",
       "\"O\"                                                 0.00   0.0   0.0   0.0   \n",
       "\"Repent, Harlequin!\" Said the Ticktockman           4.21   0.0   0.0   0.0   \n",
       "...                                                  ...   ...   ...   ...   \n",
       "涼宮ハルヒの暴走 [Suzumiya Haruhi no Bōsō]                  0.00   0.0   0.0   0.0   \n",
       "秦腔                                                  0.00   0.0   0.0   0.0   \n",
       "黒執事 XIV [Kuroshitsuji XIV]                          0.00   0.0   0.0   0.0   \n",
       "黒執事 XVIII [Kuroshitsuji XVIII]                      0.00   0.0   0.0   0.0   \n",
       "당신의 조각들                                             0.00   0.0   0.0   0.0   \n",
       "\n",
       "                                                    8     9     ...  9427  \\\n",
       "book_title                                                      ...         \n",
       "\"El Aleph\" de Jorge Luis Borges                      0.0   0.0  ...   0.0   \n",
       "\"Evil\" Arabs in American Popular Film: Oriental...   0.0   0.0  ...   0.0   \n",
       "\"Exterminate All the Brutes\": One Man's Odyssey...   0.0   0.0  ...   0.0   \n",
       "\"O\"                                                  0.0   0.0  ...   0.0   \n",
       "\"Repent, Harlequin!\" Said the Ticktockman            0.0   0.0  ...   0.0   \n",
       "...                                                  ...   ...  ...   ...   \n",
       "涼宮ハルヒの暴走 [Suzumiya Haruhi no Bōsō]                   0.0   0.0  ...   0.0   \n",
       "秦腔                                                   0.0   0.0  ...   0.0   \n",
       "黒執事 XIV [Kuroshitsuji XIV]                           0.0   0.0  ...   0.0   \n",
       "黒執事 XVIII [Kuroshitsuji XVIII]                       0.0   0.0  ...   0.0   \n",
       "당신의 조각들                                              0.0   0.0  ...   0.0   \n",
       "\n",
       "                                                    9428  9429  9430  9431  \\\n",
       "book_title                                                                   \n",
       "\"El Aleph\" de Jorge Luis Borges                      0.0   0.0   0.0   0.0   \n",
       "\"Evil\" Arabs in American Popular Film: Oriental...   0.0   0.0   0.0   0.0   \n",
       "\"Exterminate All the Brutes\": One Man's Odyssey...   0.0   0.0   0.0   0.0   \n",
       "\"O\"                                                  0.0   0.0   0.0   0.0   \n",
       "\"Repent, Harlequin!\" Said the Ticktockman            0.0   0.0   0.0   0.0   \n",
       "...                                                  ...   ...   ...   ...   \n",
       "涼宮ハルヒの暴走 [Suzumiya Haruhi no Bōsō]                   0.0   0.0   0.0   0.0   \n",
       "秦腔                                                   0.0   0.0   0.0   0.0   \n",
       "黒執事 XIV [Kuroshitsuji XIV]                           0.0   0.0   0.0   0.0   \n",
       "黒執事 XVIII [Kuroshitsuji XVIII]                       0.0   0.0   0.0   0.0   \n",
       "당신의 조각들                                              0.0   0.0   0.0   0.0   \n",
       "\n",
       "                                                    9432  9433  9434  9435  \\\n",
       "book_title                                                                   \n",
       "\"El Aleph\" de Jorge Luis Borges                     0.00  0.00  0.00  0.00   \n",
       "\"Evil\" Arabs in American Popular Film: Oriental...  0.00  0.00  0.00  0.00   \n",
       "\"Exterminate All the Brutes\": One Man's Odyssey...  0.00  0.00  0.00  0.00   \n",
       "\"O\"                                                 0.00  0.00  0.00  0.00   \n",
       "\"Repent, Harlequin!\" Said the Ticktockman           0.00  0.00  0.00  0.00   \n",
       "...                                                  ...   ...   ...   ...   \n",
       "涼宮ハルヒの暴走 [Suzumiya Haruhi no Bōsō]                  3.95  0.00  0.00  0.00   \n",
       "秦腔                                                  0.00  4.46  0.00  0.00   \n",
       "黒執事 XIV [Kuroshitsuji XIV]                          0.00  0.00  4.54  0.00   \n",
       "黒執事 XVIII [Kuroshitsuji XVIII]                      0.00  0.00  0.00  4.48   \n",
       "당신의 조각들                                             0.00  0.00  0.00  0.00   \n",
       "\n",
       "                                                    9436  \n",
       "book_title                                                \n",
       "\"El Aleph\" de Jorge Luis Borges                     0.00  \n",
       "\"Evil\" Arabs in American Popular Film: Oriental...  0.00  \n",
       "\"Exterminate All the Brutes\": One Man's Odyssey...  0.00  \n",
       "\"O\"                                                 0.00  \n",
       "\"Repent, Harlequin!\" Said the Ticktockman           0.00  \n",
       "...                                                  ...  \n",
       "涼宮ハルヒの暴走 [Suzumiya Haruhi no Bōsō]                  0.00  \n",
       "秦腔                                                  0.00  \n",
       "黒執事 XIV [Kuroshitsuji XIV]                          0.00  \n",
       "黒執事 XVIII [Kuroshitsuji XVIII]                      0.00  \n",
       "당신의 조각들                                             4.31  \n",
       "\n",
       "[9437 rows x 9437 columns]"
      ],
      "text/html": "<div>\n<style scoped>\n    .dataframe tbody tr th:only-of-type {\n        vertical-align: middle;\n    }\n\n    .dataframe tbody tr th {\n        vertical-align: top;\n    }\n\n    .dataframe thead th {\n        text-align: right;\n    }\n</style>\n<table border=\"1\" class=\"dataframe\">\n  <thead>\n    <tr style=\"text-align: right;\">\n      <th></th>\n      <th>0</th>\n      <th>1</th>\n      <th>2</th>\n      <th>3</th>\n      <th>4</th>\n      <th>5</th>\n      <th>6</th>\n      <th>7</th>\n      <th>8</th>\n      <th>9</th>\n      <th>...</th>\n      <th>9427</th>\n      <th>9428</th>\n      <th>9429</th>\n      <th>9430</th>\n      <th>9431</th>\n      <th>9432</th>\n      <th>9433</th>\n      <th>9434</th>\n      <th>9435</th>\n      <th>9436</th>\n    </tr>\n    <tr>\n      <th>book_title</th>\n      <th></th>\n      <th></th>\n      <th></th>\n      <th></th>\n      <th></th>\n      <th></th>\n      <th></th>\n      <th></th>\n      <th></th>\n      <th></th>\n      <th></th>\n      <th></th>\n      <th></th>\n      <th></th>\n      <th></th>\n      <th></th>\n      <th></th>\n      <th></th>\n      <th></th>\n      <th></th>\n      <th></th>\n    </tr>\n  </thead>\n  <tbody>\n    <tr>\n      <th>\"El Aleph\" de Jorge Luis Borges</th>\n      <td>4.31</td>\n      <td>0.0</td>\n      <td>0.00</td>\n      <td>0.00</td>\n      <td>0.00</td>\n      <td>0.0</td>\n      <td>0.0</td>\n      <td>0.0</td>\n      <td>0.0</td>\n      <td>0.0</td>\n      <td>...</td>\n      <td>0.0</td>\n      <td>0.0</td>\n      <td>0.0</td>\n      <td>0.0</td>\n      <td>0.0</td>\n      <td>0.00</td>\n      <td>0.00</td>\n      <td>0.00</td>\n      <td>0.00</td>\n      <td>0.00</td>\n    </tr>\n    <tr>\n      <th>\"Evil\" Arabs in American Popular Film: Orientalist Fear</th>\n      <td>0.00</td>\n      <td>4.5</td>\n      <td>0.00</td>\n      <td>0.00</td>\n      <td>0.00</td>\n      <td>0.0</td>\n      <td>0.0</td>\n      <td>0.0</td>\n      <td>0.0</td>\n      <td>0.0</td>\n      <td>...</td>\n      <td>0.0</td>\n      <td>0.0</td>\n      <td>0.0</td>\n      <td>0.0</td>\n      <td>0.0</td>\n      <td>0.00</td>\n      <td>0.00</td>\n      <td>0.00</td>\n      <td>0.00</td>\n      <td>0.00</td>\n    </tr>\n    <tr>\n      <th>\"Exterminate All the Brutes\": One Man's Odyssey into the Heart of Darkness and the Origins of European Genocide</th>\n      <td>0.00</td>\n      <td>0.0</td>\n      <td>4.15</td>\n      <td>0.00</td>\n      <td>0.00</td>\n      <td>0.0</td>\n      <td>0.0</td>\n      <td>0.0</td>\n      <td>0.0</td>\n      <td>0.0</td>\n      <td>...</td>\n      <td>0.0</td>\n      <td>0.0</td>\n      <td>0.0</td>\n      <td>0.0</td>\n      <td>0.0</td>\n      <td>0.00</td>\n      <td>0.00</td>\n      <td>0.00</td>\n      <td>0.00</td>\n      <td>0.00</td>\n    </tr>\n    <tr>\n      <th>\"O\"</th>\n      <td>0.00</td>\n      <td>0.0</td>\n      <td>0.00</td>\n      <td>4.22</td>\n      <td>0.00</td>\n      <td>0.0</td>\n      <td>0.0</td>\n      <td>0.0</td>\n      <td>0.0</td>\n      <td>0.0</td>\n      <td>...</td>\n      <td>0.0</td>\n      <td>0.0</td>\n      <td>0.0</td>\n      <td>0.0</td>\n      <td>0.0</td>\n      <td>0.00</td>\n      <td>0.00</td>\n      <td>0.00</td>\n      <td>0.00</td>\n      <td>0.00</td>\n    </tr>\n    <tr>\n      <th>\"Repent, Harlequin!\" Said the Ticktockman</th>\n      <td>0.00</td>\n      <td>0.0</td>\n      <td>0.00</td>\n      <td>0.00</td>\n      <td>4.21</td>\n      <td>0.0</td>\n      <td>0.0</td>\n      <td>0.0</td>\n      <td>0.0</td>\n      <td>0.0</td>\n      <td>...</td>\n      <td>0.0</td>\n      <td>0.0</td>\n      <td>0.0</td>\n      <td>0.0</td>\n      <td>0.0</td>\n      <td>0.00</td>\n      <td>0.00</td>\n      <td>0.00</td>\n      <td>0.00</td>\n      <td>0.00</td>\n    </tr>\n    <tr>\n      <th>...</th>\n      <td>...</td>\n      <td>...</td>\n      <td>...</td>\n      <td>...</td>\n      <td>...</td>\n      <td>...</td>\n      <td>...</td>\n      <td>...</td>\n      <td>...</td>\n      <td>...</td>\n      <td>...</td>\n      <td>...</td>\n      <td>...</td>\n      <td>...</td>\n      <td>...</td>\n      <td>...</td>\n      <td>...</td>\n      <td>...</td>\n      <td>...</td>\n      <td>...</td>\n      <td>...</td>\n    </tr>\n    <tr>\n      <th>涼宮ハルヒの暴走 [Suzumiya Haruhi no Bōsō]</th>\n      <td>0.00</td>\n      <td>0.0</td>\n      <td>0.00</td>\n      <td>0.00</td>\n      <td>0.00</td>\n      <td>0.0</td>\n      <td>0.0</td>\n      <td>0.0</td>\n      <td>0.0</td>\n      <td>0.0</td>\n      <td>...</td>\n      <td>0.0</td>\n      <td>0.0</td>\n      <td>0.0</td>\n      <td>0.0</td>\n      <td>0.0</td>\n      <td>3.95</td>\n      <td>0.00</td>\n      <td>0.00</td>\n      <td>0.00</td>\n      <td>0.00</td>\n    </tr>\n    <tr>\n      <th>秦腔</th>\n      <td>0.00</td>\n      <td>0.0</td>\n      <td>0.00</td>\n      <td>0.00</td>\n      <td>0.00</td>\n      <td>0.0</td>\n      <td>0.0</td>\n      <td>0.0</td>\n      <td>0.0</td>\n      <td>0.0</td>\n      <td>...</td>\n      <td>0.0</td>\n      <td>0.0</td>\n      <td>0.0</td>\n      <td>0.0</td>\n      <td>0.0</td>\n      <td>0.00</td>\n      <td>4.46</td>\n      <td>0.00</td>\n      <td>0.00</td>\n      <td>0.00</td>\n    </tr>\n    <tr>\n      <th>黒執事 XIV [Kuroshitsuji XIV]</th>\n      <td>0.00</td>\n      <td>0.0</td>\n      <td>0.00</td>\n      <td>0.00</td>\n      <td>0.00</td>\n      <td>0.0</td>\n      <td>0.0</td>\n      <td>0.0</td>\n      <td>0.0</td>\n      <td>0.0</td>\n      <td>...</td>\n      <td>0.0</td>\n      <td>0.0</td>\n      <td>0.0</td>\n      <td>0.0</td>\n      <td>0.0</td>\n      <td>0.00</td>\n      <td>0.00</td>\n      <td>4.54</td>\n      <td>0.00</td>\n      <td>0.00</td>\n    </tr>\n    <tr>\n      <th>黒執事 XVIII [Kuroshitsuji XVIII]</th>\n      <td>0.00</td>\n      <td>0.0</td>\n      <td>0.00</td>\n      <td>0.00</td>\n      <td>0.00</td>\n      <td>0.0</td>\n      <td>0.0</td>\n      <td>0.0</td>\n      <td>0.0</td>\n      <td>0.0</td>\n      <td>...</td>\n      <td>0.0</td>\n      <td>0.0</td>\n      <td>0.0</td>\n      <td>0.0</td>\n      <td>0.0</td>\n      <td>0.00</td>\n      <td>0.00</td>\n      <td>0.00</td>\n      <td>4.48</td>\n      <td>0.00</td>\n    </tr>\n    <tr>\n      <th>당신의 조각들</th>\n      <td>0.00</td>\n      <td>0.0</td>\n      <td>0.00</td>\n      <td>0.00</td>\n      <td>0.00</td>\n      <td>0.0</td>\n      <td>0.0</td>\n      <td>0.0</td>\n      <td>0.0</td>\n      <td>0.0</td>\n      <td>...</td>\n      <td>0.0</td>\n      <td>0.0</td>\n      <td>0.0</td>\n      <td>0.0</td>\n      <td>0.0</td>\n      <td>0.00</td>\n      <td>0.00</td>\n      <td>0.00</td>\n      <td>0.00</td>\n      <td>4.31</td>\n    </tr>\n  </tbody>\n</table>\n<p>9437 rows × 9437 columns</p>\n</div>"
     },
     "metadata": {},
     "execution_count": 139
    }
   ],
   "source": [
    "de"
   ]
  },
  {
   "cell_type": "code",
   "execution_count": 140,
   "metadata": {},
   "outputs": [
    {
     "output_type": "execute_result",
     "data": {
      "text/plain": [
       "NearestNeighbors(algorithm='brute', metric='cosine')"
      ]
     },
     "metadata": {},
     "execution_count": 140
    }
   ],
   "source": [
    "from scipy.sparse import csr_matrix\n",
    "\n",
    "de_matrix = csr_matrix(de.values)\n",
    "\n",
    "from sklearn.neighbors import NearestNeighbors\n",
    "\n",
    "\n",
    "model_knn = NearestNeighbors(metric = 'cosine', algorithm = 'brute')\n",
    "model_knn.fit(de_matrix)"
   ]
  },
  {
   "cell_type": "code",
   "execution_count": 147,
   "metadata": {},
   "outputs": [
    {
     "output_type": "stream",
     "name": "stdout",
     "text": [
      "2\n"
     ]
    }
   ],
   "source": [
    "a=2\n",
    "print(a)\n",
    "distances, indices = model_knn.kneighbors(de.iloc[a,:].values.reshape(1, -1), n_neighbors = 6)\n"
   ]
  },
  {
   "cell_type": "code",
   "execution_count": 148,
   "metadata": {},
   "outputs": [
    {
     "output_type": "execute_result",
     "data": {
      "text/plain": [
       "                                                    0     1     2     3     \\\n",
       "book_title                                                                   \n",
       "\"El Aleph\" de Jorge Luis Borges                     4.31   0.0  0.00  0.00   \n",
       "\"Evil\" Arabs in American Popular Film: Oriental...  0.00   4.5  0.00  0.00   \n",
       "\"Exterminate All the Brutes\": One Man's Odyssey...  0.00   0.0  4.15  0.00   \n",
       "\"O\"                                                 0.00   0.0  0.00  4.22   \n",
       "\"Repent, Harlequin!\" Said the Ticktockman           0.00   0.0  0.00  0.00   \n",
       "\"حكايات فرغلي المستكاوي \"حكايتى مع كفر السحلاوية    0.00   0.0  0.00  0.00   \n",
       "'Salem's Lot                                        0.00   0.0  0.00  0.00   \n",
       "'Til Death                                          0.00   0.0  0.00  0.00   \n",
       "'Till Death Do Us Part                              0.00   0.0  0.00  0.00   \n",
       "(Un)like a Virgin                                   0.00   0.0  0.00  0.00   \n",
       "(ژان کریستف (دورۀ چهار جلدی                         0.00   0.0  0.00  0.00   \n",
       "+Anima 3                                            0.00   0.0  0.00  0.00   \n",
       "1,000 Places to See Before You Die                  0.00   0.0  0.00  0.00   \n",
       "1.4                                                 0.00   0.0  0.00  0.00   \n",
       "10 Minutes till Bedtime                             0.00   0.0  0.00  0.00   \n",
       "10 Sexy Stories Thank You Our Readers Erotica B...  0.00   0.0  0.00  0.00   \n",
       "100 Common Sense Policies to make BRITAIN GREAT...  0.00   0.0  0.00  0.00   \n",
       "100 Love Sonnets                                    0.00   0.0  0.00  0.00   \n",
       "100 Selected Poems                                  0.00   0.0  0.00  0.00   \n",
       "100 Selected Stories                                0.00   0.0  0.00  0.00   \n",
       "\n",
       "                                                    4     5      6     7     \\\n",
       "book_title                                                                    \n",
       "\"El Aleph\" de Jorge Luis Borges                     0.00  0.00  0.000  0.00   \n",
       "\"Evil\" Arabs in American Popular Film: Oriental...  0.00  0.00  0.000  0.00   \n",
       "\"Exterminate All the Brutes\": One Man's Odyssey...  0.00  0.00  0.000  0.00   \n",
       "\"O\"                                                 0.00  0.00  0.000  0.00   \n",
       "\"Repent, Harlequin!\" Said the Ticktockman           4.21  0.00  0.000  0.00   \n",
       "\"حكايات فرغلي المستكاوي \"حكايتى مع كفر السحلاوية    0.00  3.56  0.000  0.00   \n",
       "'Salem's Lot                                        0.00  0.00  4.125  0.00   \n",
       "'Til Death                                          0.00  0.00  0.000  4.22   \n",
       "'Till Death Do Us Part                              0.00  0.00  0.000  0.00   \n",
       "(Un)like a Virgin                                   0.00  0.00  0.000  0.00   \n",
       "(ژان کریستف (دورۀ چهار جلدی                         0.00  0.00  0.000  0.00   \n",
       "+Anima 3                                            0.00  0.00  0.000  0.00   \n",
       "1,000 Places to See Before You Die                  0.00  0.00  0.000  0.00   \n",
       "1.4                                                 0.00  0.00  0.000  0.00   \n",
       "10 Minutes till Bedtime                             0.00  0.00  0.000  0.00   \n",
       "10 Sexy Stories Thank You Our Readers Erotica B...  0.00  0.00  0.000  0.00   \n",
       "100 Common Sense Policies to make BRITAIN GREAT...  0.00  0.00  0.000  0.00   \n",
       "100 Love Sonnets                                    0.00  0.00  0.000  0.00   \n",
       "100 Selected Poems                                  0.00  0.00  0.000  0.00   \n",
       "100 Selected Stories                                0.00  0.00  0.000  0.00   \n",
       "\n",
       "                                                    8     9     ...  9427  \\\n",
       "book_title                                                      ...         \n",
       "\"El Aleph\" de Jorge Luis Borges                     0.00  0.00  ...   0.0   \n",
       "\"Evil\" Arabs in American Popular Film: Oriental...  0.00  0.00  ...   0.0   \n",
       "\"Exterminate All the Brutes\": One Man's Odyssey...  0.00  0.00  ...   0.0   \n",
       "\"O\"                                                 0.00  0.00  ...   0.0   \n",
       "\"Repent, Harlequin!\" Said the Ticktockman           0.00  0.00  ...   0.0   \n",
       "\"حكايات فرغلي المستكاوي \"حكايتى مع كفر السحلاوية    0.00  0.00  ...   0.0   \n",
       "'Salem's Lot                                        0.00  0.00  ...   0.0   \n",
       "'Til Death                                          0.00  0.00  ...   0.0   \n",
       "'Till Death Do Us Part                              4.46  0.00  ...   0.0   \n",
       "(Un)like a Virgin                                   0.00  3.78  ...   0.0   \n",
       "(ژان کریستف (دورۀ چهار جلدی                         0.00  0.00  ...   0.0   \n",
       "+Anima 3                                            0.00  0.00  ...   0.0   \n",
       "1,000 Places to See Before You Die                  0.00  0.00  ...   0.0   \n",
       "1.4                                                 0.00  0.00  ...   0.0   \n",
       "10 Minutes till Bedtime                             0.00  0.00  ...   0.0   \n",
       "10 Sexy Stories Thank You Our Readers Erotica B...  0.00  0.00  ...   0.0   \n",
       "100 Common Sense Policies to make BRITAIN GREAT...  0.00  0.00  ...   0.0   \n",
       "100 Love Sonnets                                    0.00  0.00  ...   0.0   \n",
       "100 Selected Poems                                  0.00  0.00  ...   0.0   \n",
       "100 Selected Stories                                0.00  0.00  ...   0.0   \n",
       "\n",
       "                                                    9428  9429  9430  9431  \\\n",
       "book_title                                                                   \n",
       "\"El Aleph\" de Jorge Luis Borges                      0.0   0.0   0.0   0.0   \n",
       "\"Evil\" Arabs in American Popular Film: Oriental...   0.0   0.0   0.0   0.0   \n",
       "\"Exterminate All the Brutes\": One Man's Odyssey...   0.0   0.0   0.0   0.0   \n",
       "\"O\"                                                  0.0   0.0   0.0   0.0   \n",
       "\"Repent, Harlequin!\" Said the Ticktockman            0.0   0.0   0.0   0.0   \n",
       "\"حكايات فرغلي المستكاوي \"حكايتى مع كفر السحلاوية     0.0   0.0   0.0   0.0   \n",
       "'Salem's Lot                                         0.0   0.0   0.0   0.0   \n",
       "'Til Death                                           0.0   0.0   0.0   0.0   \n",
       "'Till Death Do Us Part                               0.0   0.0   0.0   0.0   \n",
       "(Un)like a Virgin                                    0.0   0.0   0.0   0.0   \n",
       "(ژان کریستف (دورۀ چهار جلدی                          0.0   0.0   0.0   0.0   \n",
       "+Anima 3                                             0.0   0.0   0.0   0.0   \n",
       "1,000 Places to See Before You Die                   0.0   0.0   0.0   0.0   \n",
       "1.4                                                  0.0   0.0   0.0   0.0   \n",
       "10 Minutes till Bedtime                              0.0   0.0   0.0   0.0   \n",
       "10 Sexy Stories Thank You Our Readers Erotica B...   0.0   0.0   0.0   0.0   \n",
       "100 Common Sense Policies to make BRITAIN GREAT...   0.0   0.0   0.0   0.0   \n",
       "100 Love Sonnets                                     0.0   0.0   0.0   0.0   \n",
       "100 Selected Poems                                   0.0   0.0   0.0   0.0   \n",
       "100 Selected Stories                                 0.0   0.0   0.0   0.0   \n",
       "\n",
       "                                                    9432  9433  9434  9435  \\\n",
       "book_title                                                                   \n",
       "\"El Aleph\" de Jorge Luis Borges                      0.0   0.0   0.0   0.0   \n",
       "\"Evil\" Arabs in American Popular Film: Oriental...   0.0   0.0   0.0   0.0   \n",
       "\"Exterminate All the Brutes\": One Man's Odyssey...   0.0   0.0   0.0   0.0   \n",
       "\"O\"                                                  0.0   0.0   0.0   0.0   \n",
       "\"Repent, Harlequin!\" Said the Ticktockman            0.0   0.0   0.0   0.0   \n",
       "\"حكايات فرغلي المستكاوي \"حكايتى مع كفر السحلاوية     0.0   0.0   0.0   0.0   \n",
       "'Salem's Lot                                         0.0   0.0   0.0   0.0   \n",
       "'Til Death                                           0.0   0.0   0.0   0.0   \n",
       "'Till Death Do Us Part                               0.0   0.0   0.0   0.0   \n",
       "(Un)like a Virgin                                    0.0   0.0   0.0   0.0   \n",
       "(ژان کریستف (دورۀ چهار جلدی                          0.0   0.0   0.0   0.0   \n",
       "+Anima 3                                             0.0   0.0   0.0   0.0   \n",
       "1,000 Places to See Before You Die                   0.0   0.0   0.0   0.0   \n",
       "1.4                                                  0.0   0.0   0.0   0.0   \n",
       "10 Minutes till Bedtime                              0.0   0.0   0.0   0.0   \n",
       "10 Sexy Stories Thank You Our Readers Erotica B...   0.0   0.0   0.0   0.0   \n",
       "100 Common Sense Policies to make BRITAIN GREAT...   0.0   0.0   0.0   0.0   \n",
       "100 Love Sonnets                                     0.0   0.0   0.0   0.0   \n",
       "100 Selected Poems                                   0.0   0.0   0.0   0.0   \n",
       "100 Selected Stories                                 0.0   0.0   0.0   0.0   \n",
       "\n",
       "                                                    9436  \n",
       "book_title                                                \n",
       "\"El Aleph\" de Jorge Luis Borges                      0.0  \n",
       "\"Evil\" Arabs in American Popular Film: Oriental...   0.0  \n",
       "\"Exterminate All the Brutes\": One Man's Odyssey...   0.0  \n",
       "\"O\"                                                  0.0  \n",
       "\"Repent, Harlequin!\" Said the Ticktockman            0.0  \n",
       "\"حكايات فرغلي المستكاوي \"حكايتى مع كفر السحلاوية     0.0  \n",
       "'Salem's Lot                                         0.0  \n",
       "'Til Death                                           0.0  \n",
       "'Till Death Do Us Part                               0.0  \n",
       "(Un)like a Virgin                                    0.0  \n",
       "(ژان کریستف (دورۀ چهار جلدی                          0.0  \n",
       "+Anima 3                                             0.0  \n",
       "1,000 Places to See Before You Die                   0.0  \n",
       "1.4                                                  0.0  \n",
       "10 Minutes till Bedtime                              0.0  \n",
       "10 Sexy Stories Thank You Our Readers Erotica B...   0.0  \n",
       "100 Common Sense Policies to make BRITAIN GREAT...   0.0  \n",
       "100 Love Sonnets                                     0.0  \n",
       "100 Selected Poems                                   0.0  \n",
       "100 Selected Stories                                 0.0  \n",
       "\n",
       "[20 rows x 9437 columns]"
      ],
      "text/html": "<div>\n<style scoped>\n    .dataframe tbody tr th:only-of-type {\n        vertical-align: middle;\n    }\n\n    .dataframe tbody tr th {\n        vertical-align: top;\n    }\n\n    .dataframe thead th {\n        text-align: right;\n    }\n</style>\n<table border=\"1\" class=\"dataframe\">\n  <thead>\n    <tr style=\"text-align: right;\">\n      <th></th>\n      <th>0</th>\n      <th>1</th>\n      <th>2</th>\n      <th>3</th>\n      <th>4</th>\n      <th>5</th>\n      <th>6</th>\n      <th>7</th>\n      <th>8</th>\n      <th>9</th>\n      <th>...</th>\n      <th>9427</th>\n      <th>9428</th>\n      <th>9429</th>\n      <th>9430</th>\n      <th>9431</th>\n      <th>9432</th>\n      <th>9433</th>\n      <th>9434</th>\n      <th>9435</th>\n      <th>9436</th>\n    </tr>\n    <tr>\n      <th>book_title</th>\n      <th></th>\n      <th></th>\n      <th></th>\n      <th></th>\n      <th></th>\n      <th></th>\n      <th></th>\n      <th></th>\n      <th></th>\n      <th></th>\n      <th></th>\n      <th></th>\n      <th></th>\n      <th></th>\n      <th></th>\n      <th></th>\n      <th></th>\n      <th></th>\n      <th></th>\n      <th></th>\n      <th></th>\n    </tr>\n  </thead>\n  <tbody>\n    <tr>\n      <th>\"El Aleph\" de Jorge Luis Borges</th>\n      <td>4.31</td>\n      <td>0.0</td>\n      <td>0.00</td>\n      <td>0.00</td>\n      <td>0.00</td>\n      <td>0.00</td>\n      <td>0.000</td>\n      <td>0.00</td>\n      <td>0.00</td>\n      <td>0.00</td>\n      <td>...</td>\n      <td>0.0</td>\n      <td>0.0</td>\n      <td>0.0</td>\n      <td>0.0</td>\n      <td>0.0</td>\n      <td>0.0</td>\n      <td>0.0</td>\n      <td>0.0</td>\n      <td>0.0</td>\n      <td>0.0</td>\n    </tr>\n    <tr>\n      <th>\"Evil\" Arabs in American Popular Film: Orientalist Fear</th>\n      <td>0.00</td>\n      <td>4.5</td>\n      <td>0.00</td>\n      <td>0.00</td>\n      <td>0.00</td>\n      <td>0.00</td>\n      <td>0.000</td>\n      <td>0.00</td>\n      <td>0.00</td>\n      <td>0.00</td>\n      <td>...</td>\n      <td>0.0</td>\n      <td>0.0</td>\n      <td>0.0</td>\n      <td>0.0</td>\n      <td>0.0</td>\n      <td>0.0</td>\n      <td>0.0</td>\n      <td>0.0</td>\n      <td>0.0</td>\n      <td>0.0</td>\n    </tr>\n    <tr>\n      <th>\"Exterminate All the Brutes\": One Man's Odyssey into the Heart of Darkness and the Origins of European Genocide</th>\n      <td>0.00</td>\n      <td>0.0</td>\n      <td>4.15</td>\n      <td>0.00</td>\n      <td>0.00</td>\n      <td>0.00</td>\n      <td>0.000</td>\n      <td>0.00</td>\n      <td>0.00</td>\n      <td>0.00</td>\n      <td>...</td>\n      <td>0.0</td>\n      <td>0.0</td>\n      <td>0.0</td>\n      <td>0.0</td>\n      <td>0.0</td>\n      <td>0.0</td>\n      <td>0.0</td>\n      <td>0.0</td>\n      <td>0.0</td>\n      <td>0.0</td>\n    </tr>\n    <tr>\n      <th>\"O\"</th>\n      <td>0.00</td>\n      <td>0.0</td>\n      <td>0.00</td>\n      <td>4.22</td>\n      <td>0.00</td>\n      <td>0.00</td>\n      <td>0.000</td>\n      <td>0.00</td>\n      <td>0.00</td>\n      <td>0.00</td>\n      <td>...</td>\n      <td>0.0</td>\n      <td>0.0</td>\n      <td>0.0</td>\n      <td>0.0</td>\n      <td>0.0</td>\n      <td>0.0</td>\n      <td>0.0</td>\n      <td>0.0</td>\n      <td>0.0</td>\n      <td>0.0</td>\n    </tr>\n    <tr>\n      <th>\"Repent, Harlequin!\" Said the Ticktockman</th>\n      <td>0.00</td>\n      <td>0.0</td>\n      <td>0.00</td>\n      <td>0.00</td>\n      <td>4.21</td>\n      <td>0.00</td>\n      <td>0.000</td>\n      <td>0.00</td>\n      <td>0.00</td>\n      <td>0.00</td>\n      <td>...</td>\n      <td>0.0</td>\n      <td>0.0</td>\n      <td>0.0</td>\n      <td>0.0</td>\n      <td>0.0</td>\n      <td>0.0</td>\n      <td>0.0</td>\n      <td>0.0</td>\n      <td>0.0</td>\n      <td>0.0</td>\n    </tr>\n    <tr>\n      <th>\"حكايات فرغلي المستكاوي \"حكايتى مع كفر السحلاوية</th>\n      <td>0.00</td>\n      <td>0.0</td>\n      <td>0.00</td>\n      <td>0.00</td>\n      <td>0.00</td>\n      <td>3.56</td>\n      <td>0.000</td>\n      <td>0.00</td>\n      <td>0.00</td>\n      <td>0.00</td>\n      <td>...</td>\n      <td>0.0</td>\n      <td>0.0</td>\n      <td>0.0</td>\n      <td>0.0</td>\n      <td>0.0</td>\n      <td>0.0</td>\n      <td>0.0</td>\n      <td>0.0</td>\n      <td>0.0</td>\n      <td>0.0</td>\n    </tr>\n    <tr>\n      <th>'Salem's Lot</th>\n      <td>0.00</td>\n      <td>0.0</td>\n      <td>0.00</td>\n      <td>0.00</td>\n      <td>0.00</td>\n      <td>0.00</td>\n      <td>4.125</td>\n      <td>0.00</td>\n      <td>0.00</td>\n      <td>0.00</td>\n      <td>...</td>\n      <td>0.0</td>\n      <td>0.0</td>\n      <td>0.0</td>\n      <td>0.0</td>\n      <td>0.0</td>\n      <td>0.0</td>\n      <td>0.0</td>\n      <td>0.0</td>\n      <td>0.0</td>\n      <td>0.0</td>\n    </tr>\n    <tr>\n      <th>'Til Death</th>\n      <td>0.00</td>\n      <td>0.0</td>\n      <td>0.00</td>\n      <td>0.00</td>\n      <td>0.00</td>\n      <td>0.00</td>\n      <td>0.000</td>\n      <td>4.22</td>\n      <td>0.00</td>\n      <td>0.00</td>\n      <td>...</td>\n      <td>0.0</td>\n      <td>0.0</td>\n      <td>0.0</td>\n      <td>0.0</td>\n      <td>0.0</td>\n      <td>0.0</td>\n      <td>0.0</td>\n      <td>0.0</td>\n      <td>0.0</td>\n      <td>0.0</td>\n    </tr>\n    <tr>\n      <th>'Till Death Do Us Part</th>\n      <td>0.00</td>\n      <td>0.0</td>\n      <td>0.00</td>\n      <td>0.00</td>\n      <td>0.00</td>\n      <td>0.00</td>\n      <td>0.000</td>\n      <td>0.00</td>\n      <td>4.46</td>\n      <td>0.00</td>\n      <td>...</td>\n      <td>0.0</td>\n      <td>0.0</td>\n      <td>0.0</td>\n      <td>0.0</td>\n      <td>0.0</td>\n      <td>0.0</td>\n      <td>0.0</td>\n      <td>0.0</td>\n      <td>0.0</td>\n      <td>0.0</td>\n    </tr>\n    <tr>\n      <th>(Un)like a Virgin</th>\n      <td>0.00</td>\n      <td>0.0</td>\n      <td>0.00</td>\n      <td>0.00</td>\n      <td>0.00</td>\n      <td>0.00</td>\n      <td>0.000</td>\n      <td>0.00</td>\n      <td>0.00</td>\n      <td>3.78</td>\n      <td>...</td>\n      <td>0.0</td>\n      <td>0.0</td>\n      <td>0.0</td>\n      <td>0.0</td>\n      <td>0.0</td>\n      <td>0.0</td>\n      <td>0.0</td>\n      <td>0.0</td>\n      <td>0.0</td>\n      <td>0.0</td>\n    </tr>\n    <tr>\n      <th>(ژان کریستف (دورۀ چهار جلدی</th>\n      <td>0.00</td>\n      <td>0.0</td>\n      <td>0.00</td>\n      <td>0.00</td>\n      <td>0.00</td>\n      <td>0.00</td>\n      <td>0.000</td>\n      <td>0.00</td>\n      <td>0.00</td>\n      <td>0.00</td>\n      <td>...</td>\n      <td>0.0</td>\n      <td>0.0</td>\n      <td>0.0</td>\n      <td>0.0</td>\n      <td>0.0</td>\n      <td>0.0</td>\n      <td>0.0</td>\n      <td>0.0</td>\n      <td>0.0</td>\n      <td>0.0</td>\n    </tr>\n    <tr>\n      <th>+Anima 3</th>\n      <td>0.00</td>\n      <td>0.0</td>\n      <td>0.00</td>\n      <td>0.00</td>\n      <td>0.00</td>\n      <td>0.00</td>\n      <td>0.000</td>\n      <td>0.00</td>\n      <td>0.00</td>\n      <td>0.00</td>\n      <td>...</td>\n      <td>0.0</td>\n      <td>0.0</td>\n      <td>0.0</td>\n      <td>0.0</td>\n      <td>0.0</td>\n      <td>0.0</td>\n      <td>0.0</td>\n      <td>0.0</td>\n      <td>0.0</td>\n      <td>0.0</td>\n    </tr>\n    <tr>\n      <th>1,000 Places to See Before You Die</th>\n      <td>0.00</td>\n      <td>0.0</td>\n      <td>0.00</td>\n      <td>0.00</td>\n      <td>0.00</td>\n      <td>0.00</td>\n      <td>0.000</td>\n      <td>0.00</td>\n      <td>0.00</td>\n      <td>0.00</td>\n      <td>...</td>\n      <td>0.0</td>\n      <td>0.0</td>\n      <td>0.0</td>\n      <td>0.0</td>\n      <td>0.0</td>\n      <td>0.0</td>\n      <td>0.0</td>\n      <td>0.0</td>\n      <td>0.0</td>\n      <td>0.0</td>\n    </tr>\n    <tr>\n      <th>1.4</th>\n      <td>0.00</td>\n      <td>0.0</td>\n      <td>0.00</td>\n      <td>0.00</td>\n      <td>0.00</td>\n      <td>0.00</td>\n      <td>0.000</td>\n      <td>0.00</td>\n      <td>0.00</td>\n      <td>0.00</td>\n      <td>...</td>\n      <td>0.0</td>\n      <td>0.0</td>\n      <td>0.0</td>\n      <td>0.0</td>\n      <td>0.0</td>\n      <td>0.0</td>\n      <td>0.0</td>\n      <td>0.0</td>\n      <td>0.0</td>\n      <td>0.0</td>\n    </tr>\n    <tr>\n      <th>10 Minutes till Bedtime</th>\n      <td>0.00</td>\n      <td>0.0</td>\n      <td>0.00</td>\n      <td>0.00</td>\n      <td>0.00</td>\n      <td>0.00</td>\n      <td>0.000</td>\n      <td>0.00</td>\n      <td>0.00</td>\n      <td>0.00</td>\n      <td>...</td>\n      <td>0.0</td>\n      <td>0.0</td>\n      <td>0.0</td>\n      <td>0.0</td>\n      <td>0.0</td>\n      <td>0.0</td>\n      <td>0.0</td>\n      <td>0.0</td>\n      <td>0.0</td>\n      <td>0.0</td>\n    </tr>\n    <tr>\n      <th>10 Sexy Stories Thank You Our Readers Erotica Bundle</th>\n      <td>0.00</td>\n      <td>0.0</td>\n      <td>0.00</td>\n      <td>0.00</td>\n      <td>0.00</td>\n      <td>0.00</td>\n      <td>0.000</td>\n      <td>0.00</td>\n      <td>0.00</td>\n      <td>0.00</td>\n      <td>...</td>\n      <td>0.0</td>\n      <td>0.0</td>\n      <td>0.0</td>\n      <td>0.0</td>\n      <td>0.0</td>\n      <td>0.0</td>\n      <td>0.0</td>\n      <td>0.0</td>\n      <td>0.0</td>\n      <td>0.0</td>\n    </tr>\n    <tr>\n      <th>100 Common Sense Policies to make BRITAIN GREAT again</th>\n      <td>0.00</td>\n      <td>0.0</td>\n      <td>0.00</td>\n      <td>0.00</td>\n      <td>0.00</td>\n      <td>0.00</td>\n      <td>0.000</td>\n      <td>0.00</td>\n      <td>0.00</td>\n      <td>0.00</td>\n      <td>...</td>\n      <td>0.0</td>\n      <td>0.0</td>\n      <td>0.0</td>\n      <td>0.0</td>\n      <td>0.0</td>\n      <td>0.0</td>\n      <td>0.0</td>\n      <td>0.0</td>\n      <td>0.0</td>\n      <td>0.0</td>\n    </tr>\n    <tr>\n      <th>100 Love Sonnets</th>\n      <td>0.00</td>\n      <td>0.0</td>\n      <td>0.00</td>\n      <td>0.00</td>\n      <td>0.00</td>\n      <td>0.00</td>\n      <td>0.000</td>\n      <td>0.00</td>\n      <td>0.00</td>\n      <td>0.00</td>\n      <td>...</td>\n      <td>0.0</td>\n      <td>0.0</td>\n      <td>0.0</td>\n      <td>0.0</td>\n      <td>0.0</td>\n      <td>0.0</td>\n      <td>0.0</td>\n      <td>0.0</td>\n      <td>0.0</td>\n      <td>0.0</td>\n    </tr>\n    <tr>\n      <th>100 Selected Poems</th>\n      <td>0.00</td>\n      <td>0.0</td>\n      <td>0.00</td>\n      <td>0.00</td>\n      <td>0.00</td>\n      <td>0.00</td>\n      <td>0.000</td>\n      <td>0.00</td>\n      <td>0.00</td>\n      <td>0.00</td>\n      <td>...</td>\n      <td>0.0</td>\n      <td>0.0</td>\n      <td>0.0</td>\n      <td>0.0</td>\n      <td>0.0</td>\n      <td>0.0</td>\n      <td>0.0</td>\n      <td>0.0</td>\n      <td>0.0</td>\n      <td>0.0</td>\n    </tr>\n    <tr>\n      <th>100 Selected Stories</th>\n      <td>0.00</td>\n      <td>0.0</td>\n      <td>0.00</td>\n      <td>0.00</td>\n      <td>0.00</td>\n      <td>0.00</td>\n      <td>0.000</td>\n      <td>0.00</td>\n      <td>0.00</td>\n      <td>0.00</td>\n      <td>...</td>\n      <td>0.0</td>\n      <td>0.0</td>\n      <td>0.0</td>\n      <td>0.0</td>\n      <td>0.0</td>\n      <td>0.0</td>\n      <td>0.0</td>\n      <td>0.0</td>\n      <td>0.0</td>\n      <td>0.0</td>\n    </tr>\n  </tbody>\n</table>\n<p>20 rows × 9437 columns</p>\n</div>"
     },
     "metadata": {},
     "execution_count": 148
    }
   ],
   "source": [
    "de.head(20)"
   ]
  },
  {
   "cell_type": "code",
   "execution_count": 149,
   "metadata": {},
   "outputs": [
    {
     "output_type": "stream",
     "name": "stdout",
     "text": [
      "Recommendations for \"Exterminate All the Brutes\": One Man's Odyssey into the Heart of Darkness and the Origins of European Genocide:\n\n1: The Beautiful and Damned, with distance of 1.0:\n2: The Beast from the East, with distance of 1.0:\n3: The Beauty Detox Solution: Eat Your Way to Radiant Skin, Renewed Energy and the Body You've Always Wanted, with distance of 1.0:\n4: The Beauty of Darkness, with distance of 1.0:\n5: The Beastly Beatitudes of Balthazar B, with distance of 1.0:\n"
     ]
    }
   ],
   "source": [
    "for i in range(0, len(distances.flatten())):\n",
    "    if i == 0:\n",
    "        print('Recommendations for {0}:\\n'.format(de.index[a]))\n",
    "    else:\n",
    "        print('{0}: {1}, with distance of {2}:'.format(i, de.index[indices.flatten()[i]], distances.flatten()[i]))"
   ]
  },
  {
   "cell_type": "code",
   "execution_count": null,
   "metadata": {},
   "outputs": [],
   "source": []
  },
  {
   "cell_type": "code",
   "execution_count": null,
   "metadata": {},
   "outputs": [],
   "source": []
  }
 ],
 "metadata": {
  "kernelspec": {
   "display_name": "Python 3",
   "language": "python",
   "name": "python3"
  },
  "language_info": {
   "codemirror_mode": {
    "name": "ipython",
    "version": 3
   },
   "file_extension": ".py",
   "mimetype": "text/x-python",
   "name": "python",
   "nbconvert_exporter": "python",
   "pygments_lexer": "ipython3",
   "version": "3.8.5-final"
  }
 },
 "nbformat": 4,
 "nbformat_minor": 4
}